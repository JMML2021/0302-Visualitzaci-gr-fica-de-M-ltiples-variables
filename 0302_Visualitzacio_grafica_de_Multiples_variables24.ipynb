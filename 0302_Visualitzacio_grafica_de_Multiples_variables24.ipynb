{
 "cells": [
  {
   "cell_type": "code",
   "execution_count": 1,
   "metadata": {
    "ExecuteTime": {
     "end_time": "2022-06-09T04:16:41.872694Z",
     "start_time": "2022-06-09T04:16:40.401319Z"
    },
    "id": "FWqtkVEmM7Gd"
   },
   "outputs": [],
   "source": [
    "# importing libraries\n",
    "import numpy as np\n",
    "import pandas as pd\n",
    "import matplotlib.pyplot as plt\n",
    "import seaborn as sns\n",
    "import warnings\n",
    "\n",
    "warnings.filterwarnings('ignore')"
   ]
  },
  {
   "cell_type": "code",
   "execution_count": 2,
   "metadata": {
    "ExecuteTime": {
     "end_time": "2022-06-09T04:16:42.246651Z",
     "start_time": "2022-06-09T04:16:41.872694Z"
    },
    "colab": {
     "base_uri": "https://localhost:8080/"
    },
    "id": "k048UlghNfRL",
    "outputId": "43a35f62-4a24-495a-eb5b-7e5ffdef1827"
   },
   "outputs": [
    {
     "data": {
      "text/plain": [
       "<bound method NDFrame.head of      total_bill   tip     sex smoker   day    time  size\n",
       "0         16.99  1.01  Female     No   Sun  Dinner     2\n",
       "1         10.34  1.66    Male     No   Sun  Dinner     3\n",
       "2         21.01  3.50    Male     No   Sun  Dinner     3\n",
       "3         23.68  3.31    Male     No   Sun  Dinner     2\n",
       "4         24.59  3.61  Female     No   Sun  Dinner     4\n",
       "..          ...   ...     ...    ...   ...     ...   ...\n",
       "239       29.03  5.92    Male     No   Sat  Dinner     3\n",
       "240       27.18  2.00  Female    Yes   Sat  Dinner     2\n",
       "241       22.67  2.00    Male    Yes   Sat  Dinner     2\n",
       "242       17.82  1.75    Male     No   Sat  Dinner     2\n",
       "243       18.78  3.00  Female     No  Thur  Dinner     2\n",
       "\n",
       "[244 rows x 7 columns]>"
      ]
     },
     "execution_count": 2,
     "metadata": {},
     "output_type": "execute_result"
    }
   ],
   "source": [
    "# Open the choosen file\n",
    "df = pd.read_csv(r'https://raw.githubusercontent.com/IT-Academy-BCN/Data-Science/main/Data-sources/tips.csv',  delimiter=\",\" , quotechar ='\"')\n",
    " \n",
    "df.head"
   ]
  },
  {
   "cell_type": "markdown",
   "metadata": {
    "id": "qW5cqkVuf-Nz"
   },
   "source": [
    "# Nivell 1"
   ]
  },
  {
   "cell_type": "code",
   "execution_count": 3,
   "metadata": {
    "ExecuteTime": {
     "end_time": "2022-06-09T04:16:42.262646Z",
     "start_time": "2022-06-09T04:16:42.249644Z"
    },
    "colab": {
     "base_uri": "https://localhost:8080/"
    },
    "id": "yOVo7xqFOwtV",
    "outputId": "cd283aff-9a3f-40b4-f688-26c3b2cb0aca"
   },
   "outputs": [
    {
     "data": {
      "text/plain": [
       "Index(['total_bill', 'tip', 'sex', 'smoker', 'day', 'time', 'size'], dtype='object')"
      ]
     },
     "execution_count": 3,
     "metadata": {},
     "output_type": "execute_result"
    }
   ],
   "source": [
    "df.columns"
   ]
  },
  {
   "cell_type": "markdown",
   "metadata": {
    "id": "L0vPyWXdQQIW"
   },
   "source": []
  },
  {
   "cell_type": "code",
   "execution_count": 4,
   "metadata": {
    "ExecuteTime": {
     "end_time": "2022-06-09T04:16:42.277565Z",
     "start_time": "2022-06-09T04:16:42.266596Z"
    },
    "colab": {
     "base_uri": "https://localhost:8080/"
    },
    "id": "T_i0epZzQQ3f",
    "outputId": "0ce1c0bb-c68f-490e-ca94-1ecb56a80e97"
   },
   "outputs": [
    {
     "name": "stdout",
     "output_type": "stream",
     "text": [
      "La media de total_bill es:  19.79 €\n"
     ]
    }
   ],
   "source": [
    "print('La media de total_bill es: ', round(df.total_bill.mean(),2), '€')"
   ]
  },
  {
   "cell_type": "code",
   "execution_count": 5,
   "metadata": {
    "ExecuteTime": {
     "end_time": "2022-06-09T04:16:42.293523Z",
     "start_time": "2022-06-09T04:16:42.279560Z"
    },
    "colab": {
     "base_uri": "https://localhost:8080/"
    },
    "id": "KVDhpdeFP-UE",
    "outputId": "c6a38fb4-25c0-4a0f-b11e-1a106035812b"
   },
   "outputs": [
    {
     "data": {
      "text/plain": [
       "array(['Dinner', 'Lunch'], dtype=object)"
      ]
     },
     "execution_count": 5,
     "metadata": {},
     "output_type": "execute_result"
    }
   ],
   "source": [
    "df.time.unique()"
   ]
  },
  {
   "cell_type": "code",
   "execution_count": 6,
   "metadata": {
    "ExecuteTime": {
     "end_time": "2022-06-09T04:16:42.325437Z",
     "start_time": "2022-06-09T04:16:42.295517Z"
    },
    "colab": {
     "base_uri": "https://localhost:8080/",
     "height": 301
    },
    "id": "dAmG1a1UQHjd",
    "outputId": "dab200c6-f5f1-4feb-814f-cff8feef12b4"
   },
   "outputs": [
    {
     "data": {
      "text/html": [
       "<div><div id=bd1c7f17-21fe-454a-a536-664d2319c6fd style=\"display:none; background-color:#9D6CFF; color:white; width:200px; height:30px; padding-left:5px; border-radius:4px; flex-direction:row; justify-content:space-around; align-items:center;\" onmouseover=\"this.style.backgroundColor='#BA9BF8'\" onmouseout=\"this.style.backgroundColor='#9D6CFF'\" onclick=\"window.commands?.execute('create-mitosheet-from-dataframe-output');\">See Full Dataframe in Mito</div> <script> if (window.commands?.hasCommand('create-mitosheet-from-dataframe-output')) document.getElementById('bd1c7f17-21fe-454a-a536-664d2319c6fd').style.display = 'flex' </script> <table border=\"1\" class=\"dataframe\">\n",
       "  <thead>\n",
       "    <tr style=\"text-align: right;\">\n",
       "      <th></th>\n",
       "      <th>total_bill</th>\n",
       "      <th>tip</th>\n",
       "      <th>size</th>\n",
       "    </tr>\n",
       "  </thead>\n",
       "  <tbody>\n",
       "    <tr>\n",
       "      <th>count</th>\n",
       "      <td>244.00</td>\n",
       "      <td>244.00</td>\n",
       "      <td>244.00</td>\n",
       "    </tr>\n",
       "    <tr>\n",
       "      <th>mean</th>\n",
       "      <td>19.79</td>\n",
       "      <td>3.00</td>\n",
       "      <td>2.57</td>\n",
       "    </tr>\n",
       "    <tr>\n",
       "      <th>std</th>\n",
       "      <td>8.90</td>\n",
       "      <td>1.38</td>\n",
       "      <td>0.95</td>\n",
       "    </tr>\n",
       "    <tr>\n",
       "      <th>min</th>\n",
       "      <td>3.07</td>\n",
       "      <td>1.00</td>\n",
       "      <td>1.00</td>\n",
       "    </tr>\n",
       "    <tr>\n",
       "      <th>25%</th>\n",
       "      <td>13.35</td>\n",
       "      <td>2.00</td>\n",
       "      <td>2.00</td>\n",
       "    </tr>\n",
       "    <tr>\n",
       "      <th>50%</th>\n",
       "      <td>17.80</td>\n",
       "      <td>2.90</td>\n",
       "      <td>2.00</td>\n",
       "    </tr>\n",
       "    <tr>\n",
       "      <th>75%</th>\n",
       "      <td>24.13</td>\n",
       "      <td>3.56</td>\n",
       "      <td>3.00</td>\n",
       "    </tr>\n",
       "    <tr>\n",
       "      <th>max</th>\n",
       "      <td>50.81</td>\n",
       "      <td>10.00</td>\n",
       "      <td>6.00</td>\n",
       "    </tr>\n",
       "  </tbody>\n",
       "</table></div>"
      ],
      "text/plain": [
       "       total_bill     tip    size\n",
       "count      244.00  244.00  244.00\n",
       "mean        19.79    3.00    2.57\n",
       "std          8.90    1.38    0.95\n",
       "min          3.07    1.00    1.00\n",
       "25%         13.35    2.00    2.00\n",
       "50%         17.80    2.90    2.00\n",
       "75%         24.13    3.56    3.00\n",
       "max         50.81   10.00    6.00"
      ]
     },
     "execution_count": 6,
     "metadata": {},
     "output_type": "execute_result"
    }
   ],
   "source": [
    "df.describe().round(2)"
   ]
  },
  {
   "cell_type": "code",
   "execution_count": 7,
   "metadata": {
    "ExecuteTime": {
     "end_time": "2022-06-09T04:16:42.543313Z",
     "start_time": "2022-06-09T04:16:42.326435Z"
    },
    "colab": {
     "base_uri": "https://localhost:8080/",
     "height": 285
    },
    "id": "RvqzWuGeQsdo",
    "outputId": "d148e566-aecd-4fee-ce5f-224ec0f6a634"
   },
   "outputs": [
    {
     "data": {
      "text/plain": [
       "<matplotlib.collections.PathCollection at 0x20092f602e0>"
      ]
     },
     "execution_count": 7,
     "metadata": {},
     "output_type": "execute_result"
    },
    {
     "data": {
      "image/png": "[encoded data removed]",
      "text/plain": [
       "<Figure size 432x288 with 1 Axes>"
      ]
     },
     "metadata": {
      "needs_background": "light"
     },
     "output_type": "display_data"
    }
   ],
   "source": [
    "# Plot\n",
    "x= df['total_bill']\n",
    "y= df['tip']\n",
    "colors = 'Blue'\n",
    "\n",
    "plt.scatter(x, y, c=colors, alpha=0.4, edgecolors='black')"
   ]
  },
  {
   "cell_type": "markdown",
   "metadata": {
    "id": "qjDBpjipRl3X"
   },
   "source": [
    "#Scatter plot"
   ]
  },
  {
   "cell_type": "markdown",
   "metadata": {
    "id": "N_GjSZX8R06l"
   },
   "source": [
    "#Histograma"
   ]
  },
  {
   "cell_type": "code",
   "execution_count": 8,
   "metadata": {
    "ExecuteTime": {
     "end_time": "2022-06-09T04:16:42.701670Z",
     "start_time": "2022-06-09T04:16:42.544326Z"
    },
    "colab": {
     "base_uri": "https://localhost:8080/",
     "height": 318
    },
    "id": "qaShWdxjRaVf",
    "outputId": "e9edae61-1d9d-4319-9849-6f0d9ab8355f"
   },
   "outputs": [
    {
     "data": {
      "text/plain": [
       "Text(0.5, 0, '# Characters (in thousands)')"
      ]
     },
     "execution_count": 8,
     "metadata": {},
     "output_type": "execute_result"
    },
    {
     "data": {
      "image/png": "[encoded data removed]",
      "text/plain": [
       "<Figure size 432x288 with 1 Axes>"
      ]
     },
     "metadata": {
      "needs_background": "light"
     },
     "output_type": "display_data"
    }
   ],
   "source": [
    "df.hist(['total_bill'], bins=14)\n",
    "plt.title('Total bill')\n",
    "plt.ylabel('Frequency')\n",
    "plt.xlabel('# Characters (in thousands)')"
   ]
  },
  {
   "cell_type": "code",
   "execution_count": null,
   "metadata": {
    "id": "a_7oXdgftADR"
   },
   "outputs": [],
   "source": []
  },
  {
   "cell_type": "markdown",
   "metadata": {
    "id": "ecGZrcarSbgA"
   },
   "source": [
    "#SUMMARY STATISTICS"
   ]
  },
  {
   "cell_type": "code",
   "execution_count": 9,
   "metadata": {
    "ExecuteTime": {
     "end_time": "2022-06-09T04:16:42.732591Z",
     "start_time": "2022-06-09T04:16:42.702671Z"
    },
    "colab": {
     "base_uri": "https://localhost:8080/",
     "height": 318
    },
    "id": "VoOyvwNxSiqg",
    "outputId": "0d920f36-8f4d-4211-e230-70f980150eb2"
   },
   "outputs": [
    {
     "name": "stdout",
     "output_type": "stream",
     "text": [
      "aqui tienes todos los estadisticos de la base de datos continuos (No discretos)\n"
     ]
    },
    {
     "data": {
      "text/html": [
       "<div><div id=d4b8067c-4c9c-457f-a0e7-621d0f7ede88 style=\"display:none; background-color:#9D6CFF; color:white; width:200px; height:30px; padding-left:5px; border-radius:4px; flex-direction:row; justify-content:space-around; align-items:center;\" onmouseover=\"this.style.backgroundColor='#BA9BF8'\" onmouseout=\"this.style.backgroundColor='#9D6CFF'\" onclick=\"window.commands?.execute('create-mitosheet-from-dataframe-output');\">See Full Dataframe in Mito</div> <script> if (window.commands?.hasCommand('create-mitosheet-from-dataframe-output')) document.getElementById('d4b8067c-4c9c-457f-a0e7-621d0f7ede88').style.display = 'flex' </script> <table border=\"1\" class=\"dataframe\">\n",
       "  <thead>\n",
       "    <tr style=\"text-align: right;\">\n",
       "      <th></th>\n",
       "      <th>total_bill</th>\n",
       "      <th>tip</th>\n",
       "      <th>size</th>\n",
       "    </tr>\n",
       "  </thead>\n",
       "  <tbody>\n",
       "    <tr>\n",
       "      <th>count</th>\n",
       "      <td>244.00</td>\n",
       "      <td>244.00</td>\n",
       "      <td>244.00</td>\n",
       "    </tr>\n",
       "    <tr>\n",
       "      <th>mean</th>\n",
       "      <td>19.79</td>\n",
       "      <td>3.00</td>\n",
       "      <td>2.57</td>\n",
       "    </tr>\n",
       "    <tr>\n",
       "      <th>std</th>\n",
       "      <td>8.90</td>\n",
       "      <td>1.38</td>\n",
       "      <td>0.95</td>\n",
       "    </tr>\n",
       "    <tr>\n",
       "      <th>min</th>\n",
       "      <td>3.07</td>\n",
       "      <td>1.00</td>\n",
       "      <td>1.00</td>\n",
       "    </tr>\n",
       "    <tr>\n",
       "      <th>25%</th>\n",
       "      <td>13.35</td>\n",
       "      <td>2.00</td>\n",
       "      <td>2.00</td>\n",
       "    </tr>\n",
       "    <tr>\n",
       "      <th>50%</th>\n",
       "      <td>17.80</td>\n",
       "      <td>2.90</td>\n",
       "      <td>2.00</td>\n",
       "    </tr>\n",
       "    <tr>\n",
       "      <th>75%</th>\n",
       "      <td>24.13</td>\n",
       "      <td>3.56</td>\n",
       "      <td>3.00</td>\n",
       "    </tr>\n",
       "    <tr>\n",
       "      <th>max</th>\n",
       "      <td>50.81</td>\n",
       "      <td>10.00</td>\n",
       "      <td>6.00</td>\n",
       "    </tr>\n",
       "  </tbody>\n",
       "</table></div>"
      ],
      "text/plain": [
       "       total_bill     tip    size\n",
       "count      244.00  244.00  244.00\n",
       "mean        19.79    3.00    2.57\n",
       "std          8.90    1.38    0.95\n",
       "min          3.07    1.00    1.00\n",
       "25%         13.35    2.00    2.00\n",
       "50%         17.80    2.90    2.00\n",
       "75%         24.13    3.56    3.00\n",
       "max         50.81   10.00    6.00"
      ]
     },
     "execution_count": 9,
     "metadata": {},
     "output_type": "execute_result"
    }
   ],
   "source": [
    "print('aqui tienes todos los estadisticos de la base de datos continuos (No discretos)')\n",
    "df.describe().round(2)"
   ]
  },
  {
   "cell_type": "code",
   "execution_count": 10,
   "metadata": {
    "ExecuteTime": {
     "end_time": "2022-06-09T04:16:42.748549Z",
     "start_time": "2022-06-09T04:16:42.735584Z"
    },
    "colab": {
     "base_uri": "https://localhost:8080/"
    },
    "id": "wqy8_saQSzrx",
    "outputId": "51656aa8-18f6-4213-8cbd-ca6877e1b486"
   },
   "outputs": [
    {
     "name": "stdout",
     "output_type": "stream",
     "text": [
      "desviacion estandar 8.902\n"
     ]
    }
   ],
   "source": [
    " desvStd = df.total_bill.std()\n",
    "print ('desviacion estandar', round(desvStd,3))"
   ]
  },
  {
   "cell_type": "code",
   "execution_count": 11,
   "metadata": {
    "ExecuteTime": {
     "end_time": "2022-06-09T04:16:42.764534Z",
     "start_time": "2022-06-09T04:16:42.750544Z"
    },
    "colab": {
     "base_uri": "https://localhost:8080/"
    },
    "id": "8kbSdVy0U_lq",
    "outputId": "b3428cfd-a5f7-4cac-8d32-bd5a121b221b"
   },
   "outputs": [
    {
     "name": "stdout",
     "output_type": "stream",
     "text": [
      "Para saber el valor de Q1, Q2, IQR:\n"
     ]
    },
    {
     "data": {
      "text/plain": [
       "count    244.000000\n",
       "mean      19.785943\n",
       "std        8.902412\n",
       "min        3.070000\n",
       "25%       13.347500\n",
       "50%       17.795000\n",
       "75%       24.127500\n",
       "max       50.810000\n",
       "Name: total_bill, dtype: float64"
      ]
     },
     "execution_count": 11,
     "metadata": {},
     "output_type": "execute_result"
    }
   ],
   "source": [
    "print('Para saber el valor de Q1, Q2, IQR:')\n",
    "(df['total_bill']).describe()"
   ]
  },
  {
   "cell_type": "code",
   "execution_count": 12,
   "metadata": {
    "ExecuteTime": {
     "end_time": "2022-06-09T04:16:42.860272Z",
     "start_time": "2022-06-09T04:16:42.766511Z"
    },
    "colab": {
     "base_uri": "https://localhost:8080/",
     "height": 265
    },
    "id": "EOidEjlITVeY",
    "outputId": "8b345e5e-a973-4720-cfde-f4b8afeb4818"
   },
   "outputs": [
    {
     "data": {
      "text/plain": [
       "<AxesSubplot:ylabel='total_bill'>"
      ]
     },
     "execution_count": 12,
     "metadata": {},
     "output_type": "execute_result"
    },
    {
     "data": {
      "image/png": "[encoded data removed]",
      "text/plain": [
       "<Figure size 432x288 with 1 Axes>"
      ]
     },
     "metadata": {
      "needs_background": "light"
     },
     "output_type": "display_data"
    }
   ],
   "source": [
    "sns.stripplot(y=df[\"total_bill\"], orient='v', color='darkblue')"
   ]
  },
  {
   "cell_type": "code",
   "execution_count": 13,
   "metadata": {
    "ExecuteTime": {
     "end_time": "2022-06-09T04:16:42.970418Z",
     "start_time": "2022-06-09T04:16:42.861247Z"
    },
    "colab": {
     "base_uri": "https://localhost:8080/",
     "height": 248
    },
    "id": "VmfoJEPBUNcq",
    "outputId": "bdab06cf-86c9-40fd-d247-0a8a3a2e1a76"
   },
   "outputs": [
    {
     "data": {
      "image/png": "[encoded data removed]",
      "text/plain": [
       "<Figure size 432x288 with 1 Axes>"
      ]
     },
     "metadata": {
      "needs_background": "light"
     },
     "output_type": "display_data"
    }
   ],
   "source": [
    "ax = sns.boxplot(y=df[\"total_bill\"], data=df,  color='lightblue', fliersize=5,  orient='v', linewidth=1 , width=0.3)\n",
    "ax = sns.stripplot(y=df[\"total_bill\"], orient='v', color='red')"
   ]
  },
  {
   "cell_type": "markdown",
   "metadata": {
    "id": "8P18ogw7U1D-"
   },
   "source": [
    "#EXERCISE - 3.8\n",
    "\n",
    "What percent of the data fall between Q1 and the median?\n",
    "What percent is between the median and Q3?"
   ]
  },
  {
   "cell_type": "markdown",
   "metadata": {
    "id": "gAMRLp0xU8ps"
   },
   "source": [
    "EXERCISE - 3.9\n",
    "\n",
    "estimate the following values for num_char in the  dataset:\n",
    "\n",
    "a).- Q1\n",
    "\n",
    "b).- Q3 and\n",
    "\n",
    "c).- IQR"
   ]
  },
  {
   "cell_type": "code",
   "execution_count": 14,
   "metadata": {
    "ExecuteTime": {
     "end_time": "2022-06-09T04:16:42.986401Z",
     "start_time": "2022-06-09T04:16:42.971428Z"
    },
    "colab": {
     "base_uri": "https://localhost:8080/"
    },
    "id": "iE0t5QmXUeHN",
    "outputId": "cb99db53-b490-42c5-b3d2-3ef3fee50cef"
   },
   "outputs": [
    {
     "name": "stdout",
     "output_type": "stream",
     "text": [
      "Q1:  13.35\n",
      "Q3:  24.13\n",
      "mediana:  17.8\n",
      "IQR:  10.78\n"
     ]
    }
   ],
   "source": [
    "# calcular el rango intercuartílico  \n",
    "q3, q1, mediana = np. percentile (df['total_bill'], [75, 25, 50]).round(2)\n",
    "iqr = q3 - q1\n",
    "print('Q1: ', q1)\n",
    "print('Q3: ', q3)\n",
    "print('mediana: ', mediana)\n",
    "print('IQR: ', iqr)"
   ]
  },
  {
   "cell_type": "code",
   "execution_count": 15,
   "metadata": {
    "ExecuteTime": {
     "end_time": "2022-06-09T04:16:43.002364Z",
     "start_time": "2022-06-09T04:16:42.988374Z"
    },
    "colab": {
     "base_uri": "https://localhost:8080/"
    },
    "id": "wbO4FxbMdBEn",
    "outputId": "bd36e215-6c30-48fe-9823-6fbbdb3bb609"
   },
   "outputs": [
    {
     "data": {
      "text/plain": [
       "0      1.01\n",
       "1      1.66\n",
       "2      3.50\n",
       "3      3.31\n",
       "4      3.61\n",
       "       ... \n",
       "239    5.92\n",
       "240    2.00\n",
       "241    2.00\n",
       "242    1.75\n",
       "243    3.00\n",
       "Name: tip, Length: 244, dtype: float64"
      ]
     },
     "execution_count": 15,
     "metadata": {},
     "output_type": "execute_result"
    }
   ],
   "source": [
    "tips = df.copy()\n",
    "tips.tip"
   ]
  },
  {
   "cell_type": "markdown",
   "metadata": {
    "id": "QQfGu4D1Ryl5"
   },
   "source": []
  },
  {
   "cell_type": "code",
   "execution_count": 16,
   "metadata": {
    "ExecuteTime": {
     "end_time": "2022-06-09T04:16:43.018294Z",
     "start_time": "2022-06-09T04:16:43.003333Z"
    },
    "colab": {
     "base_uri": "https://localhost:8080/",
     "height": 206
    },
    "id": "F-YFA7HIbYT_",
    "outputId": "d3bc7093-48b0-45f1-e5cf-07b217de23de"
   },
   "outputs": [
    {
     "data": {
      "text/html": [
       "<div><div id=473a16ea-29d0-4b54-8bc3-d37ec19c222c style=\"display:none; background-color:#9D6CFF; color:white; width:200px; height:30px; padding-left:5px; border-radius:4px; flex-direction:row; justify-content:space-around; align-items:center;\" onmouseover=\"this.style.backgroundColor='#BA9BF8'\" onmouseout=\"this.style.backgroundColor='#9D6CFF'\" onclick=\"window.commands?.execute('create-mitosheet-from-dataframe-output');\">See Full Dataframe in Mito</div> <script> if (window.commands?.hasCommand('create-mitosheet-from-dataframe-output')) document.getElementById('473a16ea-29d0-4b54-8bc3-d37ec19c222c').style.display = 'flex' </script> <table border=\"1\" class=\"dataframe\">\n",
       "  <thead>\n",
       "    <tr style=\"text-align: right;\">\n",
       "      <th></th>\n",
       "      <th>total_bill</th>\n",
       "      <th>tip</th>\n",
       "      <th>sex</th>\n",
       "      <th>smoker</th>\n",
       "      <th>day</th>\n",
       "      <th>time</th>\n",
       "      <th>size</th>\n",
       "      <th>tip_pct</th>\n",
       "    </tr>\n",
       "  </thead>\n",
       "  <tbody>\n",
       "    <tr>\n",
       "      <th>0</th>\n",
       "      <td>16.99</td>\n",
       "      <td>1.01</td>\n",
       "      <td>Female</td>\n",
       "      <td>No</td>\n",
       "      <td>Sun</td>\n",
       "      <td>Dinner</td>\n",
       "      <td>2</td>\n",
       "      <td>6.32</td>\n",
       "    </tr>\n",
       "    <tr>\n",
       "      <th>1</th>\n",
       "      <td>10.34</td>\n",
       "      <td>1.66</td>\n",
       "      <td>Male</td>\n",
       "      <td>No</td>\n",
       "      <td>Sun</td>\n",
       "      <td>Dinner</td>\n",
       "      <td>3</td>\n",
       "      <td>19.12</td>\n",
       "    </tr>\n",
       "    <tr>\n",
       "      <th>2</th>\n",
       "      <td>21.01</td>\n",
       "      <td>3.50</td>\n",
       "      <td>Male</td>\n",
       "      <td>No</td>\n",
       "      <td>Sun</td>\n",
       "      <td>Dinner</td>\n",
       "      <td>3</td>\n",
       "      <td>19.99</td>\n",
       "    </tr>\n",
       "    <tr>\n",
       "      <th>3</th>\n",
       "      <td>23.68</td>\n",
       "      <td>3.31</td>\n",
       "      <td>Male</td>\n",
       "      <td>No</td>\n",
       "      <td>Sun</td>\n",
       "      <td>Dinner</td>\n",
       "      <td>2</td>\n",
       "      <td>16.25</td>\n",
       "    </tr>\n",
       "    <tr>\n",
       "      <th>4</th>\n",
       "      <td>24.59</td>\n",
       "      <td>3.61</td>\n",
       "      <td>Female</td>\n",
       "      <td>No</td>\n",
       "      <td>Sun</td>\n",
       "      <td>Dinner</td>\n",
       "      <td>4</td>\n",
       "      <td>17.21</td>\n",
       "    </tr>\n",
       "  </tbody>\n",
       "</table></div>"
      ],
      "text/plain": [
       "   total_bill   tip     sex smoker  day    time  size  tip_pct\n",
       "0       16.99  1.01  Female     No  Sun  Dinner     2     6.32\n",
       "1       10.34  1.66    Male     No  Sun  Dinner     3    19.12\n",
       "2       21.01  3.50    Male     No  Sun  Dinner     3    19.99\n",
       "3       23.68  3.31    Male     No  Sun  Dinner     2    16.25\n",
       "4       24.59  3.61  Female     No  Sun  Dinner     4    17.21"
      ]
     },
     "execution_count": 16,
     "metadata": {},
     "output_type": "execute_result"
    }
   ],
   "source": [
    "\n",
    "tips['tip_pct'] = round((tips['tip'] / (tips['total_bill'] - tips['tip']))*100, 2)\n",
    "tips.head()"
   ]
  },
  {
   "cell_type": "code",
   "execution_count": 17,
   "metadata": {
    "ExecuteTime": {
     "end_time": "2022-06-09T04:16:43.272685Z",
     "start_time": "2022-06-09T04:16:43.020289Z"
    },
    "colab": {
     "base_uri": "https://localhost:8080/",
     "height": 285
    },
    "id": "OiO46VP-dqx-",
    "outputId": "97e9b385-e62a-419f-de27-16686d0d204f"
   },
   "outputs": [
    {
     "data": {
      "image/png": "[encoded data removed]",
      "text/plain": [
       "<Figure size 432x288 with 1 Axes>"
      ]
     },
     "metadata": {
      "needs_background": "light"
     },
     "output_type": "display_data"
    }
   ],
   "source": [
    "sns.barplot(x='tip_pct', y='day', data=tips, orient=\"h\")\n",
    "plt.show()"
   ]
  },
  {
   "cell_type": "code",
   "execution_count": 18,
   "metadata": {
    "ExecuteTime": {
     "end_time": "2022-06-09T04:16:43.541963Z",
     "start_time": "2022-06-09T04:16:43.274682Z"
    },
    "colab": {
     "base_uri": "https://localhost:8080/",
     "height": 285
    },
    "id": "zWJhFXfYdt7G",
    "outputId": "b0339c90-f1b3-4f9c-a8fd-bc0b39f40dbf"
   },
   "outputs": [
    {
     "data": {
      "image/png": "[encoded data removed]",
      "text/plain": [
       "<Figure size 432x288 with 1 Axes>"
      ]
     },
     "metadata": {
      "needs_background": "light"
     },
     "output_type": "display_data"
    }
   ],
   "source": [
    "sns.barplot(x='tip_pct', y='day', hue='time', data=tips, orient='h')\n",
    "plt.show()\n",
    "sns.set(style=\"darkgrid\")"
   ]
  },
  {
   "cell_type": "code",
   "execution_count": 19,
   "metadata": {
    "ExecuteTime": {
     "end_time": "2022-06-09T04:16:43.589319Z",
     "start_time": "2022-06-09T04:16:43.542978Z"
    },
    "colab": {
     "base_uri": "https://localhost:8080/",
     "height": 395
    },
    "id": "_beWdXuddwut",
    "outputId": "3d9d4f1e-3ae6-442e-80fd-58e494980905"
   },
   "outputs": [
    {
     "data": {
      "text/html": [
       "<div><div id=8b7d0dc5-d760-42b3-bf3e-a39a6e2272f9 style=\"display:none; background-color:#9D6CFF; color:white; width:200px; height:30px; padding-left:5px; border-radius:4px; flex-direction:row; justify-content:space-around; align-items:center;\" onmouseover=\"this.style.backgroundColor='#BA9BF8'\" onmouseout=\"this.style.backgroundColor='#9D6CFF'\" onclick=\"window.commands?.execute('create-mitosheet-from-dataframe-output');\">See Full Dataframe in Mito</div> <script> if (window.commands?.hasCommand('create-mitosheet-from-dataframe-output')) document.getElementById('8b7d0dc5-d760-42b3-bf3e-a39a6e2272f9').style.display = 'flex' </script> <table border=\"1\" class=\"dataframe\">\n",
       "  <thead>\n",
       "    <tr style=\"text-align: right;\">\n",
       "      <th></th>\n",
       "      <th>total_bill</th>\n",
       "      <th>tip</th>\n",
       "      <th>sex</th>\n",
       "      <th>smoker</th>\n",
       "      <th>day</th>\n",
       "      <th>time</th>\n",
       "      <th>size</th>\n",
       "      <th>tip_pct</th>\n",
       "    </tr>\n",
       "  </thead>\n",
       "  <tbody>\n",
       "    <tr>\n",
       "      <th>count</th>\n",
       "      <td>244.0</td>\n",
       "      <td>244.0</td>\n",
       "      <td>244</td>\n",
       "      <td>244</td>\n",
       "      <td>244</td>\n",
       "      <td>244</td>\n",
       "      <td>244.0</td>\n",
       "      <td>244.0</td>\n",
       "    </tr>\n",
       "    <tr>\n",
       "      <th>unique</th>\n",
       "      <td>NaN</td>\n",
       "      <td>NaN</td>\n",
       "      <td>2</td>\n",
       "      <td>2</td>\n",
       "      <td>4</td>\n",
       "      <td>2</td>\n",
       "      <td>NaN</td>\n",
       "      <td>NaN</td>\n",
       "    </tr>\n",
       "    <tr>\n",
       "      <th>top</th>\n",
       "      <td>NaN</td>\n",
       "      <td>NaN</td>\n",
       "      <td>Male</td>\n",
       "      <td>No</td>\n",
       "      <td>Sat</td>\n",
       "      <td>Dinner</td>\n",
       "      <td>NaN</td>\n",
       "      <td>NaN</td>\n",
       "    </tr>\n",
       "    <tr>\n",
       "      <th>freq</th>\n",
       "      <td>NaN</td>\n",
       "      <td>NaN</td>\n",
       "      <td>157</td>\n",
       "      <td>151</td>\n",
       "      <td>87</td>\n",
       "      <td>176</td>\n",
       "      <td>NaN</td>\n",
       "      <td>NaN</td>\n",
       "    </tr>\n",
       "    <tr>\n",
       "      <th>mean</th>\n",
       "      <td>19.8</td>\n",
       "      <td>3.0</td>\n",
       "      <td>NaN</td>\n",
       "      <td>NaN</td>\n",
       "      <td>NaN</td>\n",
       "      <td>NaN</td>\n",
       "      <td>2.6</td>\n",
       "      <td>20.2</td>\n",
       "    </tr>\n",
       "    <tr>\n",
       "      <th>...</th>\n",
       "      <td>...</td>\n",
       "      <td>...</td>\n",
       "      <td>...</td>\n",
       "      <td>...</td>\n",
       "      <td>...</td>\n",
       "      <td>...</td>\n",
       "      <td>...</td>\n",
       "      <td>...</td>\n",
       "    </tr>\n",
       "    <tr>\n",
       "      <th>min</th>\n",
       "      <td>3.1</td>\n",
       "      <td>1.0</td>\n",
       "      <td>NaN</td>\n",
       "      <td>NaN</td>\n",
       "      <td>NaN</td>\n",
       "      <td>NaN</td>\n",
       "      <td>1.0</td>\n",
       "      <td>3.7</td>\n",
       "    </tr>\n",
       "    <tr>\n",
       "      <th>25%</th>\n",
       "      <td>13.3</td>\n",
       "      <td>2.0</td>\n",
       "      <td>NaN</td>\n",
       "      <td>NaN</td>\n",
       "      <td>NaN</td>\n",
       "      <td>NaN</td>\n",
       "      <td>2.0</td>\n",
       "      <td>14.8</td>\n",
       "    </tr>\n",
       "    <tr>\n",
       "      <th>50%</th>\n",
       "      <td>17.8</td>\n",
       "      <td>2.9</td>\n",
       "      <td>NaN</td>\n",
       "      <td>NaN</td>\n",
       "      <td>NaN</td>\n",
       "      <td>NaN</td>\n",
       "      <td>2.0</td>\n",
       "      <td>18.3</td>\n",
       "    </tr>\n",
       "    <tr>\n",
       "      <th>75%</th>\n",
       "      <td>24.1</td>\n",
       "      <td>3.6</td>\n",
       "      <td>NaN</td>\n",
       "      <td>NaN</td>\n",
       "      <td>NaN</td>\n",
       "      <td>NaN</td>\n",
       "      <td>3.0</td>\n",
       "      <td>23.7</td>\n",
       "    </tr>\n",
       "    <tr>\n",
       "      <th>max</th>\n",
       "      <td>50.8</td>\n",
       "      <td>10.0</td>\n",
       "      <td>NaN</td>\n",
       "      <td>NaN</td>\n",
       "      <td>NaN</td>\n",
       "      <td>NaN</td>\n",
       "      <td>6.0</td>\n",
       "      <td>245.2</td>\n",
       "    </tr>\n",
       "  </tbody>\n",
       "</table></div>"
      ],
      "text/plain": [
       "        total_bill    tip   sex smoker  day    time   size  tip_pct\n",
       "count        244.0  244.0   244    244  244     244  244.0    244.0\n",
       "unique         NaN    NaN     2      2    4       2    NaN      NaN\n",
       "top            NaN    NaN  Male     No  Sat  Dinner    NaN      NaN\n",
       "freq           NaN    NaN   157    151   87     176    NaN      NaN\n",
       "mean          19.8    3.0   NaN    NaN  NaN     NaN    2.6     20.2\n",
       "std            8.9    1.4   NaN    NaN  NaN     NaN    1.0     16.3\n",
       "min            3.1    1.0   NaN    NaN  NaN     NaN    1.0      3.7\n",
       "25%           13.3    2.0   NaN    NaN  NaN     NaN    2.0     14.8\n",
       "50%           17.8    2.9   NaN    NaN  NaN     NaN    2.0     18.3\n",
       "75%           24.1    3.6   NaN    NaN  NaN     NaN    3.0     23.7\n",
       "max           50.8   10.0   NaN    NaN  NaN     NaN    6.0    245.2"
      ]
     },
     "execution_count": 19,
     "metadata": {},
     "output_type": "execute_result"
    }
   ],
   "source": [
    "round(tips.describe(include='all'), 1)"
   ]
  },
  {
   "cell_type": "code",
   "execution_count": 20,
   "metadata": {
    "ExecuteTime": {
     "end_time": "2022-06-09T04:16:43.605279Z",
     "start_time": "2022-06-09T04:16:43.590373Z"
    },
    "colab": {
     "base_uri": "https://localhost:8080/"
    },
    "id": "_o4pjf7Sd1am",
    "outputId": "71b083c0-be2b-46eb-bbe2-e39bc85bbaf3"
   },
   "outputs": [
    {
     "data": {
      "text/plain": [
       "total_bill    0.0\n",
       "tip           0.0\n",
       "sex           0.0\n",
       "smoker        0.0\n",
       "day           0.0\n",
       "time          0.0\n",
       "size          0.0\n",
       "tip_pct       0.0\n",
       "dtype: float64"
      ]
     },
     "execution_count": 20,
     "metadata": {},
     "output_type": "execute_result"
    }
   ],
   "source": [
    "tips.isnull().sum()/len(tips)"
   ]
  },
  {
   "cell_type": "code",
   "execution_count": 21,
   "metadata": {
    "ExecuteTime": {
     "end_time": "2022-06-09T04:16:43.621236Z",
     "start_time": "2022-06-09T04:16:43.607273Z"
    },
    "colab": {
     "base_uri": "https://localhost:8080/"
    },
    "id": "b88id9A-d4bK",
    "outputId": "1ebcaa06-b38c-40ac-c583-1acf8087cc0e"
   },
   "outputs": [
    {
     "data": {
      "text/plain": [
       "count    244.000\n",
       "mean       2.998\n",
       "std        1.384\n",
       "min        1.000\n",
       "25%        2.000\n",
       "50%        2.900\n",
       "75%        3.562\n",
       "max       10.000\n",
       "Name: tip, dtype: float64"
      ]
     },
     "execution_count": 21,
     "metadata": {},
     "output_type": "execute_result"
    }
   ],
   "source": [
    "round((tips['tip']).describe(), 3)"
   ]
  },
  {
   "cell_type": "code",
   "execution_count": 22,
   "metadata": {
    "ExecuteTime": {
     "end_time": "2022-06-09T04:16:43.637193Z",
     "start_time": "2022-06-09T04:16:43.625226Z"
    },
    "colab": {
     "base_uri": "https://localhost:8080/"
    },
    "id": "wtyT0vChd7qM",
    "outputId": "b8fed973-790a-4c54-8ec2-a2ca2c2c1841"
   },
   "outputs": [
    {
     "data": {
      "text/plain": [
       "2.9"
      ]
     },
     "execution_count": 22,
     "metadata": {},
     "output_type": "execute_result"
    }
   ],
   "source": [
    "(tips['tip']).median()"
   ]
  },
  {
   "cell_type": "code",
   "execution_count": 23,
   "metadata": {
    "ExecuteTime": {
     "end_time": "2022-06-09T04:16:43.780807Z",
     "start_time": "2022-06-09T04:16:43.638191Z"
    },
    "colab": {
     "base_uri": "https://localhost:8080/",
     "height": 285
    },
    "id": "5Ikl9cwEeEQX",
    "outputId": "009b30c0-562f-4bd1-f1c5-dc15429bace6"
   },
   "outputs": [
    {
     "data": {
      "image/png": "[encoded data removed]",
      "text/plain": [
       "<Figure size 432x288 with 1 Axes>"
      ]
     },
     "metadata": {},
     "output_type": "display_data"
    }
   ],
   "source": [
    "sns.set(style=\"whitegrid\")\n",
    "ax = sns.boxplot(x = tips['tip'], color='lightblue', fliersize=5, orient='v', linewidth=1, width=0.3)"
   ]
  },
  {
   "cell_type": "code",
   "execution_count": 24,
   "metadata": {
    "ExecuteTime": {
     "end_time": "2022-06-09T04:16:43.874764Z",
     "start_time": "2022-06-09T04:16:43.782817Z"
    },
    "colab": {
     "base_uri": "https://localhost:8080/",
     "height": 248
    },
    "id": "zTKdV9-QeHc3",
    "outputId": "d45137fb-df05-44f3-b098-8fbb1402225e"
   },
   "outputs": [
    {
     "data": {
      "image/png": "[encoded data removed]",
      "text/plain": [
       "<Figure size 432x288 with 1 Axes>"
      ]
     },
     "metadata": {},
     "output_type": "display_data"
    }
   ],
   "source": [
    "ax = sns.boxplot(y=\"tip\", data=tips,  color='lightblue', fliersize=5,  orient='v', linewidth=1 , width=0.3)\n",
    "ax = sns.stripplot(y=tips[\"tip\"], orient='v', color='darkblue', alpha= 0.5)"
   ]
  },
  {
   "cell_type": "code",
   "execution_count": null,
   "metadata": {
    "id": "Zm7fY5PJeKyP"
   },
   "outputs": [],
   "source": []
  },
  {
   "cell_type": "markdown",
   "metadata": {
    "id": "0CkzGl-PeL50"
   },
   "source": [
    "#Una Variable: 1 Numérica = 'tip_pct'"
   ]
  },
  {
   "cell_type": "code",
   "execution_count": 25,
   "metadata": {
    "ExecuteTime": {
     "end_time": "2022-06-09T04:16:43.890752Z",
     "start_time": "2022-06-09T04:16:43.876764Z"
    },
    "colab": {
     "base_uri": "https://localhost:8080/"
    },
    "id": "7T72gevYePvM",
    "outputId": "896d30ba-487b-44c5-b85e-8e3266ede4bc"
   },
   "outputs": [
    {
     "data": {
      "text/plain": [
       "total_bill    float64\n",
       "tip           float64\n",
       "sex            object\n",
       "smoker         object\n",
       "day            object\n",
       "time           object\n",
       "size            int64\n",
       "tip_pct       float64\n",
       "dtype: object"
      ]
     },
     "execution_count": 25,
     "metadata": {},
     "output_type": "execute_result"
    }
   ],
   "source": [
    "tips.dtypes"
   ]
  },
  {
   "cell_type": "code",
   "execution_count": 26,
   "metadata": {
    "ExecuteTime": {
     "end_time": "2022-06-09T04:16:43.985725Z",
     "start_time": "2022-06-09T04:16:43.892720Z"
    },
    "colab": {
     "base_uri": "https://localhost:8080/",
     "height": 248
    },
    "id": "nPFr9FKaeSMv",
    "outputId": "e1eaf40a-9ce9-4fbe-f2f9-de99ca2a83c4"
   },
   "outputs": [
    {
     "data": {
      "image/png": "[encoded data removed]",
      "text/plain": [
       "<Figure size 432x288 with 1 Axes>"
      ]
     },
     "metadata": {},
     "output_type": "display_data"
    }
   ],
   "source": [
    "sns.boxplot(y=\"tip_pct\", data=tips[tips.tip < 10],  color='lightblue', fliersize=5,  orient='v', linewidth=1 , width=0.3);"
   ]
  },
  {
   "cell_type": "markdown",
   "metadata": {
    "id": "uTlQkc5veVQN"
   },
   "source": [
    "**Dos Variables:** 1 Categórica = 'day', 1 Numérica = 'tip_pct'"
   ]
  },
  {
   "cell_type": "code",
   "execution_count": 27,
   "metadata": {
    "ExecuteTime": {
     "end_time": "2022-06-09T04:16:44.207067Z",
     "start_time": "2022-06-09T04:16:43.987731Z"
    },
    "colab": {
     "base_uri": "https://localhost:8080/",
     "height": 365
    },
    "id": "E7WcxRJZea8o",
    "outputId": "0b7d8ee6-cda1-43bb-d0bc-57d0ee0bc150"
   },
   "outputs": [
    {
     "data": {
      "image/png": "[encoded data removed]",
      "text/plain": [
       "<Figure size 360x360 with 1 Axes>"
      ]
     },
     "metadata": {},
     "output_type": "display_data"
    }
   ],
   "source": [
    "# añadimos variable categorica 'day' en x:\n",
    "ax = sns.catplot(x='day', y='tip_pct', kind='box',\n",
    "                 data=tips[tips.tip_pct < 245]);"
   ]
  },
  {
   "cell_type": "code",
   "execution_count": 28,
   "metadata": {
    "ExecuteTime": {
     "end_time": "2022-06-09T04:16:44.443837Z",
     "start_time": "2022-06-09T04:16:44.211250Z"
    },
    "colab": {
     "base_uri": "https://localhost:8080/",
     "height": 365
    },
    "id": "pm0Dm7UGefp9",
    "outputId": "8451a8ff-a36d-4a84-ec5f-cac8c221b220"
   },
   "outputs": [
    {
     "data": {
      "image/png": "[encoded data removed]",
      "text/plain": [
       "<Figure size 360x360 with 1 Axes>"
      ]
     },
     "metadata": {},
     "output_type": "display_data"
    }
   ],
   "source": [
    "## añadimos variable categorica 'day' en x:\n",
    "ax = sns.catplot(x='day', y='tip_pct', kind='box',\n",
    "                 data=tips[tips.tip_pct < 245]);\n",
    "\n",
    "ax = sns.stripplot(x='day', y='tip_pct', data=tips[tips.tip_pct < 245], orient='v', color='darkblue', alpha= 0.4);"
   ]
  },
  {
   "cell_type": "markdown",
   "metadata": {
    "id": "uCIP8FUNejxX"
   },
   "source": [
    "**Tres Variables :** 2 Categóricas = ('day', 'time'), 1 Numérica = 'tip_pct'"
   ]
  },
  {
   "cell_type": "code",
   "execution_count": 29,
   "metadata": {
    "ExecuteTime": {
     "end_time": "2022-06-09T04:16:44.647340Z",
     "start_time": "2022-06-09T04:16:44.444839Z"
    },
    "colab": {
     "base_uri": "https://localhost:8080/",
     "height": 285
    },
    "id": "7Jnk7qO9enU1",
    "outputId": "c3ed18cc-218a-4ba6-f502-b932bba33117"
   },
   "outputs": [
    {
     "data": {
      "image/png": "[encoded data removed]",
      "text/plain": [
       "<Figure size 432x288 with 1 Axes>"
      ]
     },
     "metadata": {},
     "output_type": "display_data"
    }
   ],
   "source": [
    "sns.boxplot(x='day', y='tip_pct', hue='time', \n",
    "               data=tips[tips.tip_pct < 245]);"
   ]
  },
  {
   "cell_type": "code",
   "execution_count": 30,
   "metadata": {
    "ExecuteTime": {
     "end_time": "2022-06-09T04:16:44.932566Z",
     "start_time": "2022-06-09T04:16:44.649335Z"
    },
    "colab": {
     "base_uri": "https://localhost:8080/",
     "height": 285
    },
    "id": "amrRaJceepVC",
    "outputId": "06f77731-d76e-41f3-8dde-876c002d8831"
   },
   "outputs": [
    {
     "data": {
      "image/png": "[encoded data removed]",
      "text/plain": [
       "<Figure size 432x288 with 1 Axes>"
      ]
     },
     "metadata": {},
     "output_type": "display_data"
    }
   ],
   "source": [
    "sns.boxplot(x='day', y='tip_pct', hue = 'time',\n",
    "               data=tips[tips.tip_pct < 245]);\n",
    "ax = sns.stripplot(x='day', y='tip_pct', hue='time', data=tips[tips.tip_pct < 245], orient='v', color='darkblue', alpha= 0.4);"
   ]
  },
  {
   "cell_type": "markdown",
   "metadata": {
    "id": "n-ceFy-feuql"
   },
   "source": [
    "#Facet Grids y Categorical DataFrame\n",
    "Nos permite profundizar todavía más en el analysis, añadiendo una variable categórica adicional.\n",
    "\n",
    "Usando el método factorplot( ) de \"Facet Grid\" :\n",
    "\n",
    "Cuatro Variables **texto en negrita** : 3 Categoricas = ('day', 'time', 'smoker'), 1 Numérica = 'tip_pct'"
   ]
  },
  {
   "cell_type": "code",
   "execution_count": 31,
   "metadata": {
    "ExecuteTime": {
     "end_time": "2022-06-09T04:16:45.515420Z",
     "start_time": "2022-06-09T04:16:44.933564Z"
    },
    "colab": {
     "base_uri": "https://localhost:8080/",
     "height": 365
    },
    "id": "BEh9nv27ezl-",
    "outputId": "1dad0937-7665-4554-c249-c9dd5b595c5b"
   },
   "outputs": [
    {
     "data": {
      "image/png": "[encoded data removed]",
      "text/plain": [
       "<Figure size 792.225x360 with 2 Axes>"
      ]
     },
     "metadata": {},
     "output_type": "display_data"
    }
   ],
   "source": [
    "\n",
    "sns.catplot(x='day', y='tip_pct', hue='time', col='smoker',\n",
    "               kind='box', data=tips[tips.tip_pct < 245]);"
   ]
  },
  {
   "cell_type": "code",
   "execution_count": 32,
   "metadata": {
    "ExecuteTime": {
     "end_time": "2022-06-09T04:16:46.024574Z",
     "start_time": "2022-06-09T04:16:45.517421Z"
    },
    "colab": {
     "base_uri": "https://localhost:8080/",
     "height": 365
    },
    "id": "KyUtjk9qe12o",
    "outputId": "31239568-bda1-40d5-d1c9-2eec9cfad345"
   },
   "outputs": [
    {
     "data": {
      "image/png": "[encoded data removed]",
      "text/plain": [
       "<Figure size 792.225x360 with 2 Axes>"
      ]
     },
     "metadata": {},
     "output_type": "display_data"
    }
   ],
   "source": [
    "\n",
    "sns.catplot(x='day', y='tip_pct', hue='time', col='smoker',\n",
    "               kind='box', data=tips[tips.tip_pct < 245]);"
   ]
  },
  {
   "cell_type": "markdown",
   "metadata": {
    "id": "IFdG7ac4gE8c"
   },
   "source": [
    "# Nivell 2\n",
    "\n",
    "# Exercici 2\n",
    "Repeteix l'exercici 1 amb el dataset que disposem en el repositori de GitHub PRE-PROCESSING-DATA, movies.dat"
   ]
  },
  {
   "cell_type": "markdown",
   "metadata": {
    "id": "weAX2y8lgRac"
   },
   "source": [
    "# Nueva sección"
   ]
  },
  {
   "cell_type": "code",
   "execution_count": 33,
   "metadata": {
    "ExecuteTime": {
     "end_time": "2022-06-09T04:16:46.475822Z",
     "start_time": "2022-06-09T04:16:46.024574Z"
    },
    "colab": {
     "base_uri": "https://localhost:8080/",
     "height": 175
    },
    "id": "ftRBDcpEgVq-",
    "outputId": "0f94dc5e-366f-432a-e09b-020c617f50ce"
   },
   "outputs": [
    {
     "data": {
      "text/html": [
       "<div><div id=efa5d836-0a87-469c-90d0-0f46e87ee7bf style=\"display:none; background-color:#9D6CFF; color:white; width:200px; height:30px; padding-left:5px; border-radius:4px; flex-direction:row; justify-content:space-around; align-items:center;\" onmouseover=\"this.style.backgroundColor='#BA9BF8'\" onmouseout=\"this.style.backgroundColor='#9D6CFF'\" onclick=\"window.commands?.execute('create-mitosheet-from-dataframe-output');\">See Full Dataframe in Mito</div> <script> if (window.commands?.hasCommand('create-mitosheet-from-dataframe-output')) document.getElementById('efa5d836-0a87-469c-90d0-0f46e87ee7bf').style.display = 'flex' </script> <table border=\"1\" class=\"dataframe\">\n",
       "  <thead>\n",
       "    <tr style=\"text-align: right;\">\n",
       "      <th></th>\n",
       "      <th>Id</th>\n",
       "      <th>Titulo Año</th>\n",
       "      <th>Tipo</th>\n",
       "    </tr>\n",
       "  </thead>\n",
       "  <tbody>\n",
       "    <tr>\n",
       "      <th>0</th>\n",
       "      <td>1</td>\n",
       "      <td>Toy Story (1995)</td>\n",
       "      <td>Animation|Children's|Comedy</td>\n",
       "    </tr>\n",
       "    <tr>\n",
       "      <th>1</th>\n",
       "      <td>2</td>\n",
       "      <td>Jumanji (1995)</td>\n",
       "      <td>Adventure|Children's|Fantasy</td>\n",
       "    </tr>\n",
       "    <tr>\n",
       "      <th>2</th>\n",
       "      <td>3</td>\n",
       "      <td>Grumpier Old Men (1995)</td>\n",
       "      <td>Comedy|Romance</td>\n",
       "    </tr>\n",
       "    <tr>\n",
       "      <th>3</th>\n",
       "      <td>4</td>\n",
       "      <td>Waiting to Exhale (1995)</td>\n",
       "      <td>Comedy|Drama</td>\n",
       "    </tr>\n",
       "  </tbody>\n",
       "</table></div>"
      ],
      "text/plain": [
       "   Id                Titulo Año                          Tipo\n",
       "0   1          Toy Story (1995)   Animation|Children's|Comedy\n",
       "1   2            Jumanji (1995)  Adventure|Children's|Fantasy\n",
       "2   3   Grumpier Old Men (1995)                Comedy|Romance\n",
       "3   4  Waiting to Exhale (1995)                  Comedy|Drama"
      ]
     },
     "execution_count": 33,
     "metadata": {},
     "output_type": "execute_result"
    }
   ],
   "source": [
    "# Open the choosen file\n",
    "titulo = ['Id', 'Titulo Año', 'Tipo']\n",
    "df = pd.read_csv(r'https://raw.githubusercontent.com/IT-Academy-BCN/Data-Science/main/Pre-processing-data/movies.dat',  delimiter='::', engine='python' , header=None, names= titulo, encoding='latin-1')\n",
    " \n",
    "df.head(4)"
   ]
  },
  {
   "cell_type": "code",
   "execution_count": 34,
   "metadata": {
    "ExecuteTime": {
     "end_time": "2022-06-09T04:16:46.490784Z",
     "start_time": "2022-06-09T04:16:46.476820Z"
    },
    "id": "vLKOA2aOkidm"
   },
   "outputs": [],
   "source": [
    "genres = [\n",
    "    \"Action\",\n",
    "    \"Adventure\",\n",
    "    \"Animation\",\n",
    "    \"Children's\",\n",
    "    \"Comedy\",\n",
    "    \"Crime\",\n",
    "    \"Documentary\",\n",
    "    \"Drama\",\n",
    "    \"Fantasy\",\n",
    "    \"Film-Noir\",\n",
    "    \"Horror\",\n",
    "    \"Musical\",\n",
    "    \"Mystery\",\n",
    "    \"Romance\",\n",
    "    \"Sci-Fi\",\n",
    "    \"Thriller\",\n",
    "    \"War\",\n",
    "    \"Western\",\n",
    "]"
   ]
  },
  {
   "cell_type": "code",
   "execution_count": 35,
   "metadata": {
    "ExecuteTime": {
     "end_time": "2022-06-09T04:16:46.569700Z",
     "start_time": "2022-06-09T04:16:46.492781Z"
    },
    "colab": {
     "base_uri": "https://localhost:8080/",
     "height": 236
    },
    "id": "rPvyVXMMm1Qn",
    "outputId": "3cac0aed-af85-45d5-85e0-1a5a1598beef"
   },
   "outputs": [
    {
     "data": {
      "text/html": [
       "<div><div id=16539831-8758-45a7-93ff-3b70f9207cf3 style=\"display:none; background-color:#9D6CFF; color:white; width:200px; height:30px; padding-left:5px; border-radius:4px; flex-direction:row; justify-content:space-around; align-items:center;\" onmouseover=\"this.style.backgroundColor='#BA9BF8'\" onmouseout=\"this.style.backgroundColor='#9D6CFF'\" onclick=\"window.commands?.execute('create-mitosheet-from-dataframe-output');\">See Full Dataframe in Mito</div> <script> if (window.commands?.hasCommand('create-mitosheet-from-dataframe-output')) document.getElementById('16539831-8758-45a7-93ff-3b70f9207cf3').style.display = 'flex' </script> <table border=\"1\" class=\"dataframe\">\n",
       "  <thead>\n",
       "    <tr style=\"text-align: right;\">\n",
       "      <th></th>\n",
       "      <th>Id</th>\n",
       "      <th>Titulo Año</th>\n",
       "      <th>Tipo</th>\n",
       "      <th>Action</th>\n",
       "      <th>Adventure</th>\n",
       "      <th>Animation</th>\n",
       "      <th>Children's</th>\n",
       "      <th>Comedy</th>\n",
       "      <th>Crime</th>\n",
       "      <th>Documentary</th>\n",
       "      <th>...</th>\n",
       "      <th>Fantasy</th>\n",
       "      <th>Film-Noir</th>\n",
       "      <th>Horror</th>\n",
       "      <th>Musical</th>\n",
       "      <th>Mystery</th>\n",
       "      <th>Romance</th>\n",
       "      <th>Sci-Fi</th>\n",
       "      <th>Thriller</th>\n",
       "      <th>War</th>\n",
       "      <th>Western</th>\n",
       "    </tr>\n",
       "  </thead>\n",
       "  <tbody>\n",
       "    <tr>\n",
       "      <th>0</th>\n",
       "      <td>1</td>\n",
       "      <td>Toy Story (1995)</td>\n",
       "      <td>Animation|Children's|Comedy</td>\n",
       "      <td>0</td>\n",
       "      <td>0</td>\n",
       "      <td>1</td>\n",
       "      <td>1</td>\n",
       "      <td>1</td>\n",
       "      <td>0</td>\n",
       "      <td>0</td>\n",
       "      <td>...</td>\n",
       "      <td>0</td>\n",
       "      <td>0</td>\n",
       "      <td>0</td>\n",
       "      <td>0</td>\n",
       "      <td>0</td>\n",
       "      <td>0</td>\n",
       "      <td>0</td>\n",
       "      <td>0</td>\n",
       "      <td>0</td>\n",
       "      <td>0</td>\n",
       "    </tr>\n",
       "    <tr>\n",
       "      <th>1</th>\n",
       "      <td>2</td>\n",
       "      <td>Jumanji (1995)</td>\n",
       "      <td>Adventure|Children's|Fantasy</td>\n",
       "      <td>0</td>\n",
       "      <td>1</td>\n",
       "      <td>0</td>\n",
       "      <td>1</td>\n",
       "      <td>0</td>\n",
       "      <td>0</td>\n",
       "      <td>0</td>\n",
       "      <td>...</td>\n",
       "      <td>1</td>\n",
       "      <td>0</td>\n",
       "      <td>0</td>\n",
       "      <td>0</td>\n",
       "      <td>0</td>\n",
       "      <td>0</td>\n",
       "      <td>0</td>\n",
       "      <td>0</td>\n",
       "      <td>0</td>\n",
       "      <td>0</td>\n",
       "    </tr>\n",
       "    <tr>\n",
       "      <th>2</th>\n",
       "      <td>3</td>\n",
       "      <td>Grumpier Old Men (1995)</td>\n",
       "      <td>Comedy|Romance</td>\n",
       "      <td>0</td>\n",
       "      <td>0</td>\n",
       "      <td>0</td>\n",
       "      <td>0</td>\n",
       "      <td>1</td>\n",
       "      <td>0</td>\n",
       "      <td>0</td>\n",
       "      <td>...</td>\n",
       "      <td>0</td>\n",
       "      <td>0</td>\n",
       "      <td>0</td>\n",
       "      <td>0</td>\n",
       "      <td>0</td>\n",
       "      <td>1</td>\n",
       "      <td>0</td>\n",
       "      <td>0</td>\n",
       "      <td>0</td>\n",
       "      <td>0</td>\n",
       "    </tr>\n",
       "    <tr>\n",
       "      <th>3</th>\n",
       "      <td>4</td>\n",
       "      <td>Waiting to Exhale (1995)</td>\n",
       "      <td>Comedy|Drama</td>\n",
       "      <td>0</td>\n",
       "      <td>0</td>\n",
       "      <td>0</td>\n",
       "      <td>0</td>\n",
       "      <td>1</td>\n",
       "      <td>0</td>\n",
       "      <td>0</td>\n",
       "      <td>...</td>\n",
       "      <td>0</td>\n",
       "      <td>0</td>\n",
       "      <td>0</td>\n",
       "      <td>0</td>\n",
       "      <td>0</td>\n",
       "      <td>0</td>\n",
       "      <td>0</td>\n",
       "      <td>0</td>\n",
       "      <td>0</td>\n",
       "      <td>0</td>\n",
       "    </tr>\n",
       "    <tr>\n",
       "      <th>4</th>\n",
       "      <td>5</td>\n",
       "      <td>Father of the Bride Part II (1995)</td>\n",
       "      <td>Comedy</td>\n",
       "      <td>0</td>\n",
       "      <td>0</td>\n",
       "      <td>0</td>\n",
       "      <td>0</td>\n",
       "      <td>1</td>\n",
       "      <td>0</td>\n",
       "      <td>0</td>\n",
       "      <td>...</td>\n",
       "      <td>0</td>\n",
       "      <td>0</td>\n",
       "      <td>0</td>\n",
       "      <td>0</td>\n",
       "      <td>0</td>\n",
       "      <td>0</td>\n",
       "      <td>0</td>\n",
       "      <td>0</td>\n",
       "      <td>0</td>\n",
       "      <td>0</td>\n",
       "    </tr>\n",
       "  </tbody>\n",
       "</table></div>"
      ],
      "text/plain": [
       "   Id                          Titulo Año                          Tipo  \\\n",
       "0   1                    Toy Story (1995)   Animation|Children's|Comedy   \n",
       "1   2                      Jumanji (1995)  Adventure|Children's|Fantasy   \n",
       "2   3             Grumpier Old Men (1995)                Comedy|Romance   \n",
       "3   4            Waiting to Exhale (1995)                  Comedy|Drama   \n",
       "4   5  Father of the Bride Part II (1995)                        Comedy   \n",
       "\n",
       "   Action  Adventure  Animation  Children's  Comedy  Crime  Documentary  ...  \\\n",
       "0       0          0          1           1       1      0            0  ...   \n",
       "1       0          1          0           1       0      0            0  ...   \n",
       "2       0          0          0           0       1      0            0  ...   \n",
       "3       0          0          0           0       1      0            0  ...   \n",
       "4       0          0          0           0       1      0            0  ...   \n",
       "\n",
       "   Fantasy  Film-Noir  Horror  Musical  Mystery  Romance  Sci-Fi  Thriller  \\\n",
       "0        0          0       0        0        0        0       0         0   \n",
       "1        1          0       0        0        0        0       0         0   \n",
       "2        0          0       0        0        0        1       0         0   \n",
       "3        0          0       0        0        0        0       0         0   \n",
       "4        0          0       0        0        0        0       0         0   \n",
       "\n",
       "   War  Western  \n",
       "0    0        0  \n",
       "1    0        0  \n",
       "2    0        0  \n",
       "3    0        0  \n",
       "4    0        0  \n",
       "\n",
       "[5 rows x 21 columns]"
      ]
     },
     "execution_count": 35,
     "metadata": {},
     "output_type": "execute_result"
    }
   ],
   "source": [
    "# Creo columnas con el tipo de pelicula que es\n",
    "for genre in genres:\n",
    "    df[genre] = df[\"Tipo\"].apply(\n",
    "        lambda values: int(genre in values.split(\"|\"))\n",
    "    )\n",
    "df.head()"
   ]
  },
  {
   "cell_type": "code",
   "execution_count": 36,
   "metadata": {
    "ExecuteTime": {
     "end_time": "2022-06-09T04:16:46.601640Z",
     "start_time": "2022-06-09T04:16:46.571693Z"
    },
    "colab": {
     "base_uri": "https://localhost:8080/",
     "height": 645
    },
    "id": "vdgT85QJq1Ed",
    "outputId": "aa6230d6-dfca-4cae-aad0-9fb0ba38bc1e"
   },
   "outputs": [
    {
     "data": {
      "text/html": [
       "<div><div id=b59f6299-37ee-4c71-9331-88f8e9dd9951 style=\"display:none; background-color:#9D6CFF; color:white; width:200px; height:30px; padding-left:5px; border-radius:4px; flex-direction:row; justify-content:space-around; align-items:center;\" onmouseover=\"this.style.backgroundColor='#BA9BF8'\" onmouseout=\"this.style.backgroundColor='#9D6CFF'\" onclick=\"window.commands?.execute('create-mitosheet-from-dataframe-output');\">See Full Dataframe in Mito</div> <script> if (window.commands?.hasCommand('create-mitosheet-from-dataframe-output')) document.getElementById('b59f6299-37ee-4c71-9331-88f8e9dd9951').style.display = 'flex' </script> <table border=\"1\" class=\"dataframe\">\n",
       "  <thead>\n",
       "    <tr style=\"text-align: right;\">\n",
       "      <th></th>\n",
       "      <th>0</th>\n",
       "    </tr>\n",
       "  </thead>\n",
       "  <tbody>\n",
       "    <tr>\n",
       "      <th>Tipo</th>\n",
       "      <td>Animation|Children's|ComedyAdventure|Children's|FantasyComedy|RomanceComedy|DramaComedyAction|Crime|ThrillerComedy|RomanceAdventure|Children'sActionAction|Adventure|ThrillerComedy|Drama|RomanceComedy|HorrorAnimation|Children'sDramaAction|Adventure|RomanceDrama|ThrillerDrama|RomanceThrillerComedyActionAction|Comedy|DramaCrime|Drama|ThrillerThrillerDrama|Sci-FiDrama|RomanceDramaDramaRomanceAdventure|Sci-FiDramaDramaDrama|Sci-FiAdventure|RomanceChildren's|Comedy|DramaDrama|RomanceDramaDocumentaryComedyComedy|RomanceDramaDrama|WarAction|Crime|DramaDramaAction|AdventureComedy|DramaDrama|RomanceCrime|ThrillerAnimation|Children's|Musical|RomanceDrama|RomanceCrime|ThrillerAction|Drama|ThrillerComedyDramaChildren's|ComedyDramaAdventure|Children's|FantasyDramaDrama|RomanceDrama|MysteryAdventure|Children's|FantasyDrama|ThrillerDramaComedyComedy|RomanceComedySci-Fi|ThrillerDramaComedy|RomanceComedyAction|Comedy|Crime|Horror|ThrillerActionComedy|DramaDrama|MusicalDrama|RomanceComedy|DramaSci-Fi|ThrillerDocumentaryDramaDrama|ThrillerDramaCrime|Drama|RomanceDramaDramaComedy|DramaDrama|RomanceAdventure|DramaChildren's|ComedyComedyAction|ThrillerDramaDrama|ThrillerComedy|RomanceDramaAction|ThrillerComedyDramaAction|ThrillerDocumentaryDrama|ThrillerComedyComedyThrillerComedyDrama|RomanceComedy|DramaAdventure|Children's|Comedy|MusicalDocumentaryComedyAction|Drama|WarDrama|ThrillerAction|Adventure|CrimeDrama|MysteryDramaComedyDocumentaryCrimeComedy|RomanceComedyDramaDramaComedy|RomanceDrama|Mystery|RomanceDramaComedyAdventure|Children's|FantasyDramaDocumentaryComedy|RomanceDramaDrama|RomanceThrillerComedy|DramaDocumentaryComedyDocumentaryDocumentaryDramaAction|DramaDrama|RomanceComedyDramaDramaComedyActionAdventure|Children'sDramaDramaCrime|Drama|ThrillerDramaDrama|Romance|WarHorrorAction|Adventure|Comedy|CrimeDramaDrama|WarComedyComedy|WarAdventure|Children'sDramaAction|Adventure|Mystery|Sci-FiDrama|Thriller|WarDocumentaryAction|Romance|ThrillerCrime|Film-Noir|Mystery|ThrillerAction|ThrillerComedy|DramaDramaAction|Adventure|Drama|RomanceAdventure|Children's|DramaAction|Crime|ThrillerComedyAction|Sci-Fi|ThrillerAction|Adventure|Sci-FiComedyDramaComedyHorrorComedyDrama|RomanceComedyAction|Children'sDrama|RomanceThrillerDramaSci-Fi|ThrillerComedyComedyHorrorComedyThrillerDramaDocumentaryDramaDramaComedy|Drama|RomanceHorror|Sci-FiDramaAction|Crime|Sci-FiDrama|MusicalThrillerDramaDrama|RomanceComedyActionComedy|DramaDocumentaryDrama|RomanceAction|AdventureDramaWesternDramaComedyDramaDramaDrama|RomanceComedyDrama|ThrillerComedy|DramaDramaHorrorDrama|RomanceComedyComedy|Drama|RomanceDrama|ThrillerThrillerActionComedyDrama|ThrillerDrama|ThrillerComedyComedy|DramaDramaComedyComedy|DramaComedy|RomanceComedy|RomanceAdventure|Children'sAnimation|Children's|Comedy|RomanceThrillerChildren's|DramaDrama|MusicalComedyAnimation|Children'sCrime|DramaDocumentaryDrama|Fantasy|Romance|ThrillerComedyDrama|RomanceChildren's|ComedyActionComedy|RomanceDrama|HorrorDramaComedyComedy|Sci-FiMystery|ThrillerAdventure|Children's|Comedy|Fantasy|RomanceCrime|Drama|ThrillerAction|Adventure|Fantasy|Sci-FiDramaChildren's|DramaDramaDramaDrama|RomanceDrama|Romance|War|WesternComedyDramaDramaDrama|RomanceDramaDramaDrama|HorrorComedyComedyComedy|RomanceDramaComedyDramaDrama|ThrillerDramaDramaCrime|DramaAction|CrimeDrama|HorrorAction|Sci-Fi|ThrillerComedy|RomanceAction|ThrillerComedy|RomanceCrime|DramaThrillerAction|Drama|ThrillerCrime|Drama|Romance|ThrillerComedy|RomanceComedy|RomanceCrime|DramaDramaComedyDramaDramaDrama|RomanceDrama|RomanceAction|Adventure|WesternComedy|DramaComedyDramaDramaDramaDramaComedyHorror|ThrillerComedyAnimation|Children'sDramaActionAction|Adventure|Sci-FiChildren's|Comedy|FantasyDramaThrillerFilm-Noir|ThrillerDramaComedy|DramaComedyComedyDramaAction|Comedy|Musical|Sci-FiHorrorAction|Adventure|Sci-FiComedy|HorrorDramaHorror|Sci-FiComedyDramaMystery|ThrillerDrama|WarDramaSci-Fi|ThrillerComedy|RomanceAdventure|DramaDramaComedy|RomanceChildren'sComedyComedy|DramaDrama|MusicalDramaComedyAction|Adventure|ThrillerDrama|Mystery|ThrillerComedy|Drama|RomanceComedyAction|Romance|ThrillerDramaChildren's|ComedyComedy|Romance|WarComedy|RomanceDramaComedy|Drama|RomanceAction|ComedyDrama|RomanceAdventure|Children's|RomanceDocumentaryAnimation|Children's|MusicalDramaHorrorComedy|Crime|FantasyAction|Comedy|WesternDramaComedyComedy|DramaComedy|DramaThrillerChildren's|ComedyDramaAction|ThrillerAction|Romance|ThrillerComedy|RomanceAction|Sci-FiAction|Adventure|Comedy|RomanceDramaDrama|HorrorWesternActionDramaDramaAction|ComedyDramaDrama|Romance|WarAction|Comedy|DramaCrime|DramaAdventure|Children'sActionActionDramaDramaHorrorDocumentaryDramaDramaAction|ThrillerComedyComedy|Crime|DramaDocumentaryAction|Sci-FiDramaHorror|ThrillerDramaDramaComedyComedyDramaComedyComedyComedy|ThrillerWesternComedy|RomanceDramaComedyAction|ComedyAdventure|Children'sThrillerAction|ThrillerDramaDrama|RomanceHorror|Sci-Fi|ThrillerMystery|Romance|ThrillerDramaComedyDramaCrime|DramaComedy|WesternComedyAction|Adventure|CrimeComedy|Sci-FiDrama|ThrillerComedyAction|ComedyDramaComedy|RomanceComedyAction|Sci-FiDocumentaryComedy|RomanceComedyDrama|RomanceComedy|RomanceDramaComedyComedy|DramaDrama|Mystery|RomanceDramaComedyDrama|ThrillerAdventure|Children's|DramaDramaAction|ThrillerDrama|WesternActionComedyDrama|RomanceAction|AdventureCrime|Drama|ThrillerAction|Adventure|Crime|ThrillerAction|Drama|WarAction|Comedy|WarComedyComedy|RomanceDrama|RomanceComedyComedy|RomanceComedy|DramaComedy|WarAction|ThrillerDramaComedy|DramaDramaComedyActionAction|Adventure|Sci-FiDrama|ThrillerThrillerDramaAdventure|Children'sAction|ComedyComedyComedy|WesternDramaComedyThrillerDramaComedy|MysteryAction|Crime|DramaAction|ThrillerDramaComedy|Drama|RomanceComedy|RomanceDrama|RomanceComedy|RomanceComedyDramaAction|Children'sDramaAction|Sci-FiComedyDramaAction|DramaDramaDrama|RomanceDramaAction|DramaHorror|Sci-FiComedy|Mystery|RomanceComedyDramaComedy|Drama|WarAction|Drama|MysteryComedySci-Fi|ThrillerComedyCrime|ThrillerAction|DramaDramaDramaDramaDramaDrama|WarDramaDramaDramaChildren's|DramaComedy|Crime|HorrorActionDrama|RomanceDramaDramaComedy|DramaDramaComedy|RomanceThrillerFilm-Noir|Sci-FiComedyComedy|Romance|ThrillerActionDramaAction|Adventure|Children's|Sci-FiAction|Adventure|ThrillerActionDocumentaryComedy|RomanceChildren's|Comedy|MusicalAction|Adventure|ComedyWesternThrillerAction|Crime|RomanceDocumentaryDramaAction|Adventure|Animation|Children's|FantasyComedyDramaThrillerComedy|DramaDramaComedyHorrorComedy|RomanceDramaComedy|DramaChildren's|ComedyComedy|DramaDramaDramaDramaComedy|DramaChildren's|ComedyComedyAdventure|Children'sDrama|MysteryThrillerDramaDocumentaryComedyComedy|DramaDramaComedyChildren's|ComedyComedy|Romance|ThrillerAnimation|Children's|Comedy|MusicalAction|Sci-Fi|ThrillerAdventure|Drama|WesternAction|Drama|ThrillerAction|Adventure|Crime|DramaDrama|ThrillerAnimation|Children's|MusicalAnimation|Children's|MusicalAnimation|Children'sComedy|RomanceComedyWesternThrillerDramaDocumentaryComedyDocumentaryDrama|RomanceHorrorDramaCrime|Drama|ThrillerAdventure|Children'sAction|Adventure|Animation|Horror|Sci-FiAction|Horror|Sci-FiComedyDrama|RomanceDrama|ThrillerDramaAnimation|Children'sDramaComedy|RomanceComedyDramaDramaRomanceAction|Drama|ThrillerDramaComedyDrama|ThrillerDrama|ThrillerDramaDrama|RomanceAnimation|Children's|MusicalWarComedyComedyComedy|DramaDramaComedyRomanceComedyDrama|ThrillerComedyDramaComedyComedyDramaDrama|WarAction|Adventure|MysteryComedy|DramaDramaComedyMysteryAction|Adventure|FantasyDrama|RomanceComedyComedyComedy|DramaDramaCrime|ThrillerDramaAnimation|Children's|MusicalThrillerComedyComedyWarDramaActionDramaDramaDramaComedy|Sci-FiDramaAdventure|Animation|Children's|Comedy|FantasyAdventure|Sci-FiAction|Drama|ThrillerDramaDrama|ThrillerDramaSci-FiCrimeDocumentary|DramaDocumentaryDramaDramaDrama|RomanceAction|Adventure|Comedy|WarRomanceComedy|RomanceAction|Sci-Fi|ThrillerDramaActionMystery|ThrillerThrillerDrama|RomanceDramaDramaComedyDramaDramaDramaAction|AdventureComedyDramaCrime|Film-Noir|ThrillerComedy|RomanceAnimation|Children'sComedyAdventure|Children'sDramaDramaWesternDramaCrimeComedyComedy|Sci-FiComedyAnimationDramaDocumentaryDramaDrama|HorrorComedyDramaDocumentaryComedyDramaDramaMystery|ThrillerCrimeAction|Adventure|ThrillerComedyComedy|HorrorAction|Adventure|Romance|ThrillerAction|Sci-FiDramaComedyAnimation|Sci-FiHorror|ThrillerComedyDramaAnimation|Comedy|ThrillerFilm-NoirComedyAction|Sci-Fi|ThrillerDramaSci-Fi|WarComedyComedy|RomanceComedy|DramaAdventure|Children'sChildren's|DramaDocumentaryDramaDramaDocumentaryWarAdventureComedy|CrimeDramaDrama|RomanceComedy|DramaDramaDramaDramaDocumentaryDramaComedy|DramaComedyDramaDramaHorrorComedy|DramaWarDramaDrama|RomanceAction|Sci-Fi|WarDramaThrillerAnimation|Children's|MusicalComedyComedyAction|ThrillerDocumentaryComedy|Fantasy|Romance|Sci-FiDramaDramaDocumentaryFantasyDramaComedy|DramaDramaDramaComedyAction|Adventure|ThrillerComedy|HorrorDrama|MysteryChildren's|ComedyDrama|RomanceRomanceComedy|RomanceDramaDramaComedy|RomanceAdventure|Children'sAction|AdventureChildren's|Comedy|FantasyComedyDramaComedyDramaAction|Mystery|ThrillerDramaComedyComedy|DramaDramaRomanceDramaDramaDramaComedy|RomanceDramaDramaAdventure|Children'sComedy|MusicalComedyDramaDrama|ThrillerComedyComedyDramaAction|Adventure|ThrillerChildren's|ComedyComedy|Drama|RomanceAction|ThrillerComedyHorrorHorrorDramaDramaDramaDramaComedy|DramaDramaAction|Adventure|Sci-Fi|ThrillerCrime|DramaDramaComedy|RomanceDramaDramaDramaComedyDramaAction|Crime|DramaDocumentaryComedyAction|ThrillerDramaComedyComedy|DramaDramaCrime|Drama|Romance|ThrillerComedy|CrimeComedyCrimeComedyComedyDramaDramaCrime|DramaDramaActionDramaDramaHorrorSci-Fi|ThrillerChildren's|ComedyDrama|ThrillerDramaChildren's|Drama|FantasyActionDramaAnimation|Children'sRomanceThrillerHorror|ThrillerComedy|Drama|RomanceDramaRomanceDramaDramaAdventure|WarComedy|RomanceMusical|RomanceMusical|RomanceComedy|MusicalDrama|RomanceMystery|ThrillerMystery|ThrillerComedyMystery|ThrillerComedy|Musical|RomanceDrama|ThrillerComedy|DramaComedy|CrimeComedy|Mystery|Romance|ThrillerDrama|Romance|WarFilm-Noir|MysteryMusical|RomanceComedy|RomanceComedy|RomanceChildren's|DramaMusicalAdventure|Children's|Drama|MusicalDrama|Romance|WarComedyFilm-NoirDramaDrama|Mystery|Sci-Fi|ThrillerAdventure|RomanceDramaComedyRomance|ThrillerThrillerFilm-Noir|Romance|ThrillerMystery|Romance|ThrillerRomanceComedy|Romance|ThrillerComedyComedy|MusicalComedy|RomanceComedy|RomanceMusicalComedy|DramaAction|AdventureAdventureCrime|Film-Noir|MysteryDrama|RomanceDramaComedy|Musical|RomanceComedy|Drama|WarComedyDramaDramaMysteryComedyAdventure|ComedyDramaDramaComedyDrama|RomanceDramaComedy|MysteryDramaCrime|DramaDramaCrime|DramaMusicalWesternThrillerDramaWesternHorror|Sci-FiAction|Adventure|Romance|WarComedy|DramaDramaDramaDramaDrama|RomanceComedy|MusicalRomance|WarMysteryDramaDrama|WarActionDramaDramaRomanceComedy|DramaDocumentaryAdventure|Children'sDrama|RomanceComedy|DramaDramaAction|Adventure|ThrillerDrama|WarThrillerDramaDramaAction|Drama|WesternDrama|ThrillerAction|CrimeCrimeCrimeComedyComedyDrama|ThrillerAction|ThrillerChildren's|ComedyDramaChildren's|Comedy|WesternWesternAdventure|Children's|FantasyChildren's|ComedyAdventure|Children's|ComedyChildren's|DramaChildren's|DramaChildren's|Comedy|DramaAdventure|Children'sChildren's|ComedyAdventure|Children'sChildren's|Comedy|MysteryAdventure|Children's|Fantasy|Sci-FiComedyChildren's|ComedyAnimation|Children's|MusicalAnimation|Children'sAnimation|Children's|MusicalAnimation|Children'sChildren's|DramaDramaChildren's|Comedy|MusicalAnimation|Children's|MusicalAdventure|Animation|Children's|MusicalAdventure|Children's|MusicalAnimation|Children's|MusicalAnimation|Children'sCrimeMusicalAction|ThrillerAction|Sci-Fi|ThrillerDramaDocumentaryDramaDramaComedyDrama|RomanceDramaComedy|DramaDrama|RomanceAction|ThrillerAction|AdventureDocumentary|DramaDramaDramaCrime|DramaDramaThrillerDramaComedy|Musical|RomanceDramaDrama|RomanceComedy|DramaCrime|DramaDramaDramaAnimation|Children's|ComedyMysteryComedy|Musical|RomanceComedy|Musical|RomanceCrime|Film-NoirFilm-Noir|ThrillerAdventureRomance|WarAdventure|Children's|Comedy|FantasyComedyThrillerComedy|Sci-FiComedy|WarComedyComedyComedy|MusicalDramaComedy|MusicalCrime|DramaAdventure|DramaMystery|ThrillerMusicalMusical|RomanceCrime|ThrillerDrama|WarComedyMystery|ThrillerDrama|MusicalDrama|Romance|WarDramaDramaChildren's|Drama|Fantasy|Sci-FiComedyDramaAction|RomanceAction|RomanceActionDramaDramaHorrorDocumentaryComedyDocumentaryDramaActionDocumentaryAction|DramaComedyDramaComedy|DramaDramaDramaAdventure|WesternDramaDramaDramaDocumentaryDocumentaryDramaComedyComedy|FantasyAction|Adventure|Sci-Fi|ThrillerHorrorAction|Adventure|Sci-Fi|ThrillerHorrorDramaDramaComedy|DramaAction|DramaComedyComedyRomanceDocumentaryDramaDramaDramaDramaComedyDocumentaryDocumentaryComedy|DramaDocumentaryAnimation|ComedyDocumentary|DramaDramaAnimation|Comedy|ThrillerCrime|Film-Noir|ThrillerFilm-NoirFilm-NoirDramaDramaDramaComedyRomanceComedyDramaComedyDramaDramaDrama|ThrillerComedyComedyHorrorDocumentaryActionComedyComedy|Drama|RomanceDramaComedyComedy|Sci-FiDramaDramaDrama|WarCrime|Drama|Film-NoirComedyActionDrama|Romance|WarComedy|WarDramaDramaDramaComedy|RomanceDocumentaryDramaDocumentaryDocumentaryDramaComedyAction|Adventure|Drama|Sci-Fi|WarAction|Adventure|Comedy|RomanceAction|AdventureSci-FiAction|Sci-Fi|Thriller|WarAction|WesternComedyDramaAdventure|WarAction|Animation|Children's|Sci-Fi|Thriller|WarSci-FiDramaDrama|WarWesternAction|Adventure|Romance|Sci-Fi|WarComedy|Drama|RomanceMystery|ThrillerCrime|DramaAction|Horror|Sci-Fi|ThrillerAction|Adventure|Comedy|Horror|Sci-FiAdventure|RomanceDrama|WarAction|ThrillerHorror|ThrillerAction|Comedy|MusicalAction|Crime|DramaAction|Drama|WarAnimation|ComedyDrama|WarDramaComedy|RomanceCrime|Drama|ThrillerDramaComedy|RomanceDramaMystery|Sci-FiAction|Drama|WarComedy|CrimeComedyComedy|DramaDramaComedyAction|Sci-Fi|ThrillerComedy|HorrorAction|Drama|WarComedy|DramaComedy|Drama|RomanceDramaDramaDrama|RomanceCrime|Film-Noir|ThrillerThrillerDrama|WarDramaFilm-Noir|Mystery|ThrillerDrama|Sci-FiAdventureComedy|HorrorComedy|WarComedyHorrorAdventure|Comedy|DramaCrime|Film-Noir|ThrillerAction|Adventure|Comedy|HorrorAdventure|WarDrama|WarAction|Drama|Mystery|Romance|ThrillerComedy|RomanceWesternFilm-Noir|ThrillerDramaComedy|Mystery|ThrillerComedy|Sci-FiDramaDrama|WarComedy|DramaAdventure|Animation|Sci-Fi|ThrillerAction|AdventureComedy|DramaAction|Drama|RomanceComedy|HorrorComedy|DramaDramaComedyAnimation|Children's|MusicalWesternFilm-Noir|MysteryComedyDrama|RomanceAction|Adventure|DramaComedy|Drama|MusicalDocumentary|WarDrama|RomanceAction|AdventureComedyDramaComedy|WarDramaDrama|RomanceComedyDrama|Musical|WarDrama|WarDramaSci-FiDramaAdventureAction|Comedy|WesternDramaDrama|Sci-FiComedy|RomanceComedyDrama|RomanceDocumentaryComedyDramaCrimeRomanceDocumentaryDramaComedyComedy|DramaDocumentaryAction|Horror|Sci-Fi|ThrillerHorrorHorrorHorrorHorrorHorrorHorrorHorrorHorrorHorrorComedy|HorrorHorrorHorror|ThrillerHorrorHorror|Sci-FiAction|HorrorHorrorHorrorHorror|RomanceHorrorHorrorHorrorThrillerFilm-Noir|ThrillerHorrorHorrorHorrorHorrorHorrorHorrorDramaCrime|ThrillerComedy|RomanceDramaHorror|ThrillerAction|Adventure|Sci-FiDrama|RomanceDrama|ThrillerAdventure|Children's|ComedyDramaDocumentaryDramaDramaActionDramaDramaChildren's|ComedyDramaDrama|ThrillerAction|ThrillerAction|Adventure|Sci-FiAction|Adventure|Sci-FiAction|Adventure|Sci-FiAction|Adventure|Sci-FiAction|Adventure|Sci-FiAction|Adventure|Sci-FiAction|Adventure|Comedy|CrimeAction|Comedy|WesternAction|Comedy|WesternComedy|Musical|RomanceComedy|Musical|RomanceAction|DramaAction|Sci-FiDramaActionWesternAction|HorrorAction|HorrorAction|HorrorComedyAction|Comedy|Sci-Fi|WarComedy|DramaDrama|RomanceComedyComedy|DramaCrime|Drama|Sci-FiDramaRomance|WarDramaDramaDramaCrime|DramaAnimation|ComedyDramaHorror|ThrillerAction|Romance|WarComedy|RomanceComedy|DramaDramaDramaDramaComedyCrime|Drama|RomanceDrama|MusicalDramaDramaDocumentaryDocumentaryMystery|ThrillerDramaActionComedyChildren'sThrillerDramaActionThrillerAction|ComedyActionComedy|HorrorActionComedyDramaAction|ThrillerComedyComedyComedy|RomanceDramaDocumentaryComedyComedy|WarComedyCrimeDocumentaryComedyWarComedy|RomanceComedyComedy|RomanceComedyComedy|RomanceRomanceMystery|ThrillerChildren's|Comedy|MysteryComedyDocumentaryComedy|RomanceMysteryDramaCrime|DramaComedy|DramaComedy|RomanceDocumentaryDramaCrime|ThrillerAction|Comedy|Crime|DramaChildren's|ComedyRomanceComedy|DramaRomanceAction|Romance|ThrillerAction|Drama|ThrillerComedy|DramaDrama|ThrillerMysteryComedyDramaDrama|MusicalAction|Drama|Thriller|WarAnimation|Children's|MusicalComedyRomanceComedyAction|Adventure|Children'sDrama|RomanceActionDrama|RomanceAction|Adventure|ThrillerComedy|CrimeCrimeRomanceComedyDramaDrama|WarDramaDramaDramaComedyComedyRomanceDrama|ThrillerComedyComedyAction|ThrillerDramaRomanceDramaAction|Crime|RomanceDramaAction|Adventure|Children's|FantasyComedyAction|Sci-FiComedyDramaDramaComedyDramaDramaDrama|RomanceComedyAdventure|Children'sComedy|CrimeComedy|RomanceComedy|Drama|RomanceDramaAction|Adventure|Sci-Fi|ThrillerDramaComedyChildren's|DramaDramaDrama|RomanceComedy|RomanceAdventure|Children's|DramaAction|Adventure|ThrillerComedyDrama|RomanceDramaAction|Romance|ThrillerDramaComedyDramaComedyAction|Adventure|CrimeDramaComedy|RomanceComedy|ThrillerAdventure|Animation|Children's|Comedy|MusicalDramaCrime|Drama|MysteryComedy|RomanceSci-FiComedy|RomanceDramaAction|Sci-Fi|ThrillerRomanceDramaDramaCrimeDramaAction|Adventure|Comedy|Sci-FiComedyAdventure|Children'sChildren's|FantasyDrama|Sci-FiComedyAction|Drama|WarAction|AdventureChildren's|ComedyCrime|Drama|MysteryAction|Mystery|Sci-Fi|ThrillerAction|Adventure|Sci-Fi|ThrillerChildren's|ComedyComedy|RomanceDramaAdventure|Children's|DramaDramaAction|Mystery|Romance|ThrillerCrime|Drama|ThrillerActionDrama|RomanceCrime|Drama|Film-NoirComedySci-Fi|ThrillerAction|ComedyAdventure|RomanceAction|AdventureAction|ThrillerDramaAction|ThrillerDramaComedyDramaComedyAdventure|ThrillerAction|Thriller|WarCrime|Film-Noir|Mystery|ThrillerDrama|WarCrime|Drama|ThrillerDramaComedy|DramaHorrorDramaMystery|ThrillerAction|Drama|ThrillerAction|Crime|MysteryDramaComedy|RomanceComedy|DramaThrillerComedy|RomanceDramaDramaAction|ThrillerDrama|RomanceComedyComedyComedy|DramaDrama|RomanceHorror|Mystery|ThrillerCrime|Horror|Mystery|ThrillerComedyCrime|ThrillerComedy|Drama|ThrillerDocumentaryDramaDramaDocumentaryDrama|Sci-Fi|ThrillerChildren's|Drama|FantasyHorrorRomanceDocumentaryRomance|ThrillerDramaDramaThrillerCrimeComedyDramaComedyRomanceAction|DramaDramaRomanceDrama|WarCrimeDramaDramaDrama|Romance|ThrillerCrime|ThrillerAction|Adventure|Sci-Fi|WarComedyDramaComedyDrama|RomanceAction|AdventureDramaDrama|Romance|ThrillerRomanceRomanceCrime|ThrillerAction|ThrillerAnimation|Children's|MusicalComedy|MysteryAction|Horror|Sci-FiHorror|Sci-FiDramaDramaDramaDrama|WarCrimeComedyDramaComedy|DramaChildren's|Comedy|FantasyComedyDramaDramaDramaChildren's|ComedyDramaThrillerDramaComedy|Crime|Drama|MysteryChildren's|ComedyRomanceThrillerDramaHorror|ThrillerThrillerDramaAction|Adventure|Sci-FiDrama|RomanceAction|Romance|ThrillerComedy|DramaDramaDramaDramaDramaDramaCrime|DramaDramaComedyComedy|Crime|Mystery|ThrillerDrama|RomanceComedy|DramaDrama|RomanceComedyAction|Children'sAction|DramaDramaCrimeDocumentaryAction|Adventure|ThrillerComedyComedy|DramaFilm-Noir|Sci-Fi|ThrillerRomanceAdventure|Children's|Fantasy|Sci-FiAction|ThrillerComedyAction|Mystery|ThrillerRomanceHorrorDramaDramaDramaComedy|MusicalAction|Horror|Sci-FiComedy|ThrillerCrime|DramaDrama|RomanceDramaAction|ThrillerRomance|ThrillerHorrorAction|Comedy|MusicalAction|DramaComedy|DramaDramaComedy|RomanceAdventure|Sci-Fi|ThrillerDocumentaryDramaComedy|RomanceFilm-Noir|Mystery|ThrillerComedy|DramaAction|CrimeDocumentaryAction|DramaDramaCrime|DramaAction|ThrillerComedyComedy|DramaDramaAction|DramaDocumentaryThrillerCrime|DramaAction|Drama|RomanceCrime|DramaCrime|Drama|Mystery|ThrillerAdventure|Children's|ComedyDramaComedy|Crime|DramaDramaDramaChildren's|Comedy|DramaDramaDramaComedy|DramaComedy|Drama|RomanceDramaDramaComedy|RomanceChildren's|ComedyComedy|ThrillerAction|DramaAdventure|Children'sComedy|DocumentaryDrama|RomanceComedyAction|Sci-Fi|ThrillerAction|DramaAction|Drama|ThrillerDrama|ThrillerRomanceDramaComedyComedyDramaDrama|ThrillerCrime|DramaChildren's|ComedyDramaComedy|ThrillerDramaDrama|ThrillerAdventure|Children's|Comedy|FantasyAdventureDrama|RomanceDrama|RomanceDrama|ThrillerComedyComedy|RomanceComedyDocumentary|MusicalComedyAction|ComedyDramaDramaComedy|ThrillerHorror|Sci-FiComedyComedyDocumentaryAction|ComedyAction|AdventureDrama|WarAction|ThrillerComedy|DramaComedy|DramaDramaDramaComedy|RomanceComedyAction|Drama|Sci-Fi|ThrillerDramaComedy|RomanceDramaDramaAdventure|Animation|Children's|FantasyAction|Sci-FiComedyComedy|DramaComedy|DramaComedyAdventure|ComedyComedy|Drama|RomanceThrillerDramaHorror|ThrillerMystery|ThrillerDramaAdventure|Comedy|RomanceComedy|Drama|RomanceComedyDrama|RomanceDrama|WarAdventure|DramaDramaDocumentaryDrama|RomanceComedyComedy|DramaDramaComedy|RomanceAnimation|Children'sDrama|ThrillerMystery|Sci-Fi|ThrillerAction|Comedy|CrimeComedyAction|Crime|RomanceDrama|MysteryComedy|DramaDramaAction|Comedy|DramaAction|Adventure|Sci-Fi|ThrillerAction|Comedy|Crime|DramaChildren's|ComedyAnimation|Children's|Fantasy|WarSci-Fi|ThrillerDramaComedyHorror|Sci-FiDrama|Romance|WarMusicalWarWesternDramaDramaAdventureMusicalDramaComedyDramaDrama|WarComedyDramaDrama|WarDramaDramaDramaDramaDrama|Romance|WarCrime|DramaDrama|RomanceMusical|RomanceComedyDramaDrama|MysteryMusicalDramaAction|Crime|Drama|ThrillerAction|DramaDramaDramaDramaComedy|DramaDrama|RomanceDrama|WarDramaDramaComedyDrama|MysteryComedy|Sci-FiComedyAdventure|Children's|FantasyComedy|DramaHorrorHorrorHorrorHorrorHorrorHorrorHorrorHorrorHorrorHorrorHorrorHorrorHorrorHorrorHorrorHorrorHorrorHorrorHorrorHorrorHorrorHorrorHorrorHorrorHorrorHorror|ThrillerHorror|ThrillerHorror|ThrillerHorrorHorrorHorrorAction|Comedy|Crime|DramaAction|Comedy|Crime|DramaAction|Comedy|Crime|DramaComedy|HorrorComedy|HorrorAdventure|Children's|FantasyAction|Adventure|RomanceComedyCrime|Drama|Film-NoirSci-Fi|ThrillerSci-FiComedy|Sci-FiComedy|Sci-Fi|WesternAction|AdventureChildren's|ComedyChildren's|Comedy|FantasyChildren's|Comedy|WesternChildren's|Fantasy|MusicalAnimation|Children'sAction|DramaDrama|RomanceFantasy|Sci-FiDramaAction|Crime|DramaDrama|MysteryDrama|RomanceHorror|ThrillerComedy|CrimeAction|Drama|WarComedy|RomanceDramaChildren's|ComedyChildren's|ComedyAnimation|Children'sSci-FiChildren's|ComedyChildren's|ComedyAdventure|Children's|ComedyChildren's|Comedy|Sci-FiAdventure|Children'sChildren's|ComedyAction|Adventure|Children's|ComedyChildren's|ComedyAdventure|Children's|FantasyComedyAdventure|Children's|Drama|RomanceAdventure|Children's|Sci-FiChildren'sAnimation|Children'sComedy|MusicalAdventure|Children's|ComedyAdventure|Children's|ComedyChildren's|ComedyChildren's|Comedy|Sci-FiAdventure|Children's|Comedy|Fantasy|Sci-FiComedy|WesternAdventure|Children'sAdventure|Children'sAction|ThrillerChildren's|DramaComedyDocumentaryDrama|RomanceDrama|RomanceComedy|DocumentaryComedy|Drama|RomanceFilm-NoirDrama|Romance|WarDramaDramaDramaDramaComedyComedyDramaDrama|WarDrama|MysteryAdventure|Children'sAnimation|Children's|Comedy|MusicalChildren's|DramaAnimation|Children's|Comedy|Musical|RomanceAnimation|Children's|Comedy|Musical|RomanceChildren's|ComedyChildren's|MusicalChildren's|MusicalAnimation|Children'sDrama|FantasyAnimation|Children's|Fantasy|MusicalAdventure|Comedy|MusicalAnimation|Children'sAnimation|Children'sChildren's|Sci-FiAnimation|Children's|MusicalAdventure|Children's|Fantasy|Sci-FiAction|Adventure|Sci-FiChildren's|ComedyAnimation|Children's|MusicalChildren's|HorrorChildren's|ComedyAdventure|Animation|Children's|MusicalComedy|Fantasy|RomanceAdventure|DramaAnimation|Children's|Comedy|MusicalAdventure|Children'sDramaAction|Adventure|Fantasy|Sci-FiDrama|WarHorror|ThrillerComedy|RomanceComedyComedy|Crime|ThrillerComedyCrime|DramaHorror|ThrillerDramaAction|AdventureAdventure|Animation|Children's|Sci-FiDrama|Sci-FiHorror|ThrillerHorrorDrama|HorrorHorror|ThrillerHorror|ThrillerAnimation|Children'sComedyDrama|RomanceAction|Crime|Mystery|ThrillerDrama|RomanceComedyDocumentaryCrime|Drama|RomanceDramaDramaAdventure|ComedyComedyAdventure|MusicalComedyAnimation|Children'sAnimation|Children's|Drama|FantasyAnimation|Children'sChildren's|Fantasy|Sci-FiAnimation|Children's|ComedyAnimation|Children's|ComedyAdventure|Fantasy|RomanceComedyComedy|Drama|RomanceDrama|RomanceDramaComedy|HorrorComedy|HorrorComedyComedyChildren's|ComedyAction|AdventureDrama|RomanceComedyComedy|DramaRomanceCrime|HorrorCrime|HorrorHorror|ThrillerAdventure|Children's|FantasyAdventure|Children's|FantasyComedy|HorrorDramaDramaDrama|RomanceAction|Adventure|HorrorDrama|RomanceComedyAction|ComedyComedy|Drama|RomanceComedyAdventure|Fantasy|Sci-FiComedy|FantasyDrama|RomanceThrillerComedy|ThrillerThrillerThrillerThrillerThrillerDrama|Film-Noir|ThrillerThrillerMystery|ThrillerThrillerFilm-Noir|ThrillerMystery|ThrillerDramaAnimationDramaComedyDramaAction|Adventure|FantasyAction|Crime|DramaComedyActionDramaDocumentaryCrime|DramaDramaDramaDrama|Thriller|WarFilm-Noir|ThrillerThrillerComedyMystery|ThrillerDramaComedy|Mystery|Romance|ThrillerCrime|ThrillerThrillerThrillerThrillerComedy|MusicalThrillerComedy|RomanceDramaComedy|MusicalDramaMystery|ThrillerDramaThrillerComedyComedyDramaDramaDramaThrillerDramaDramaComedyCrime|DramaSci-Fi|ThrillerDramaDramaDrama|WarDramaDramaComedy|DramaComedy|DramaDramaComedyDramaComedy|Drama|RomanceComedy|RomanceComedy|DramaComedyComedyComedy|Drama|RomanceComedyDramaComedyComedy|DramaAction|Comedy|FantasyDramaComedyHorror|Sci-FiComedy|RomanceActionComedy|RomanceAction|CrimeComedyComedy|Drama|RomanceThrillerDramaAdventure|ComedyComedy|RomanceMystery|ThrillerCrime|DramaDramaDocumentaryDramaDramaAction|ThrillerDramaAction|Adventure|Sci-FiDramaDramaAction|Crime|ThrillerHorror|ThrillerCrimeCrimeComedy|DramaDramaDramaDramaComedySci-Fi|Thriller|WarAction|Horror|Sci-Fi|ThrillerComedy|DramaComedy|DramaDrama|RomanceRomanceDramaAnimation|Children'sComedyComedyDrama|RomanceThrillerComedyComedy|MusicalComedyComedyDrama|MusicalDramaDramaComedyAction|DramaAction|CrimeDramaDramaMystery|Sci-FiDramaDramaDramaHorror|ThrillerDrama|RomanceComedyComedyComedyDrama|ThrillerComedyAction|Adventure|Sci-Fi|Thriller|WarDocumentaryComedy|DramaComedyDrama|ThrillerHorrorHorrorDramaDocumentaryComedy|RomanceCrime|DramaDramaAction|ThrillerComedyDramaDramaHorror|Mystery|ThrillerComedy|RomanceRomanceDramaComedyDramaAction|Adventure|Drama|ThrillerDramaSci-Fi|ThrillerActionDramaComedy|ThrillerComedyDramaComedy|DramaAction|ThrillerAnimation|Children's|ComedyAnimation|Children's|ComedyComedyDramaDramaComedyDramaComedyDramaAction|Sci-FiAction|Sci-FiAction|Sci-FiAction|Adventure|HorrorAction|Adventure|HorrorAction|Adventure|HorrorComedy|RomanceAction|Adventure|DramaComedyComedyAction|AdventureComedy|DramaComedyActionHorror|Sci-FiComedyComedyComedyComedyComedyComedyChildren's|ComedyComedy|RomanceDramaComedy|CrimeDrama|RomanceCrime|Horror|ThrillerComedyCrime|ThrillerComedy|DramaAction|Sci-FiAnimation|MusicalComedyComedy|RomanceDramaDramaAdventure|Children's|FantasyChildren's|DramaWesternAction|WarActionAction|WarAction|Adventure|Comedy|RomanceAction|Adventure|Comedy|RomanceComedy|Sci-FiComedy|Sci-FiAction|DramaAction|DramaAction|DramaAction|DramaComedy|MysteryAction|Adventure|MysteryDrama|RomanceComedyComedy|DramaComedyDrama|ThrillerDramaAction|Adventure|DramaAction|Adventure|DramaComedyComedy|RomanceCrimeComedy|Drama|RomanceAction|Drama|WarHorror|Sci-FiAdventure|Children's|DramaAdventure|Children's|DramaComedy|DramaDramaDramaDramaDramaComedyDramaDrama|ThrillerDramaDramaDrama|WesternDramaDrama|RomanceComedy|DramaDramaThrillerComedy|DramaHorror|Sci-FiAdventure|Children'sAdventure|Children's|Sci-FiHorrorHorrorDrama|FantasyHorror|Sci-FiHorror|Sci-FiHorror|Sci-FiAction|ComedyComedy|CrimeHorrorHorrorHorrorHorrorComedyHorrorHorrorDramaMysteryAction|Comedy|Romance|ThrillerComedy|RomanceAdventure|ComedyAdventure|ComedyComedyComedyDramaAction|Mystery|ThrillerAction|WarAdventureComedy|WesternDrama|ThrillerDramaDrama|RomanceComedy|RomanceComedy|Horror|ThrillerComedyComedy|RomanceDramaAction|ComedyDrama|Horror|ThrillerDramaAction|ThrillerComedy|RomanceComedyDramaDocumentaryAnimation|Sci-FiComedy|RomanceRomanceComedy|Sci-FiComedyComedyDramaComedy|RomanceDramaComedy|DramaThrillerComedy|Drama|RomanceComedyDramaComedyComedy|RomanceCrimeDramaHorrorHorrorHorrorHorrorHorrorComedyHorrorDramaDramaDramaDrama|ThrillerAction|DramaAction|Horror|Sci-FiSci-FiAction|Sci-Fi|Thriller|WesternAction|Adventure|Sci-FiAction|Sci-FiAction|Sci-FiAction|Sci-FiAction|Sci-FiAction|Sci-FiActionActionDramaAdventureDocumentaryComedyAction|Crime|Drama|ThrillerDramaComedy|Crime|ThrillerComedyDramaComedyDramaDramaHorrorAction|Sci-FiHorror|ThrillerDrama|ThrillerComedyHorror|Sci-Fi|ThrillerHorror|Sci-Fi|ThrillerComedyComedy|Drama|RomanceDramaComedy|RomanceAnimation|Children'sDrama|HorrorCrime|ThrillerDramaDramaDramaMusicalAnimation|Children'sComedyAction|CrimeDrama|RomanceDrama|RomanceAction|Sci-Fi|ThrillerComedy|RomanceDramaComedyDramaDramaComedy|DramaSci-FiDramaCrimeComedy|RomanceAction|ComedyMysteryComedyDrama|RomanceComedy|Crime|ThrillerComedyDramaComedy|Drama|RomanceDramaComedy|RomanceDramaComedyDrama|Romance|Sci-FiDocumentaryComedy|DramaComedy|RomanceComedyComedyAction|Sci-Fi|ThrillerComedyAdventure|Sci-FiDramaDocumentaryCrime|ThrillerComedy|HorrorDramaThrillerDramaDramaDramaDramaAction|Horror|Sci-FiAction|Horror|Sci-FiAdventure|Sci-FiAction|CrimeAction|Adventure|Horror|ThrillerComedyDramaDrama|RomanceDrama|RomanceComedy|FantasyComedyDramaActionComedy|Drama|RomanceDocumentary|DramaAction|Adventure|Fantasy|Sci-FiComedy|RomanceDramaComedy|Film-Noir|ThrillerDramaHorror|RomanceHorrorHorrorHorrorHorrorHorrorDramaAction|Adventure|Sci-FiAction|Adventure|Sci-FiAction|Adventure|Sci-FiAction|Adventure|Sci-FiHorrorHorrorHorrorHorrorHorrorHorrorHorrorHorrorHorrorHorrorHorrorHorrorHorror|Sci-FiComedy|Horror|Musical|Sci-FiSci-FiComedy|DocumentarySci-FiSci-FiAction|Sci-Fi|WarSci-FiHorror|Sci-FiSci-FiSci-FiSci-FiHorror|Sci-FiWarWarComedy|RomanceDrama|Sci-Fi|ThrillerDramaDramaComedy|Drama|RomanceDrama|ThrillerDocumentaryDramaDrama|RomanceDramaComedy|Romance|Sci-FiDramaComedyComedy|DramaComedy|DramaDrama|MysteryAnimation|Children'sDrama|ThrillerDocumentaryComedyDramaAction|Crime|RomanceDocumentaryComedyDramaComedyComedy|Drama|RomanceSci-FiAction|Comedy|Sci-Fi|ThrillerAnimation|ComedyAction|Sci-Fi|WesternDramaDramaDrama|RomanceDramaComedyThrillerRomanceChildren's|ComedyHorrorDramaDramaHorror|ThrillerDramaComedy|RomanceComedy|HorrorComedy|HorrorComedyHorror|ThrillerAction|Adventure|Children's|ComedyRomanceAction|Sci-Fi|ThrillerAction|Adventure|ComedyComedy|RomanceDramaCrime|Film-NoirFilm-NoirDramaDramaDramaDramaDramaAdventure|ComedyDramaAction|Adventure|ComedyComedyActionComedy|DramaDramaHorrorAction|ThrillerComedy|DramaDramaDramaDramaComedy|Horror|MusicalComedy|HorrorAction|AdventureDrama|MysteryComedy|DramaComedyComedy|MysteryThrillerHorrorDramaActionDramaDramaComedyDramaAnimation|Children'sThrillerAction|ThrillerCrime|Drama|ThrillerComedy|DramaComedy|DramaComedyComedyCrime|MysteryComedyDramaComedyDramaComedy|RomanceDramaDocumentaryDramaThrillerComedyComedy|HorrorHorrorHorrorHorrorHorrorHorrorComedyHorrorComedyHorrorHorrorComedyComedyComedy|HorrorComedyComedyComedyComedy|FantasyComedyComedyAnimation|Children'sDrama|RomanceAction|Romance|ThrillerThrillerComedy|DramaComedy|RomanceComedy|ThrillerAction|Sci-FiAction|Sci-FiComedyAnimation|MysteryComedyAction|ThrillerDocumentaryHorrorAction|WarAction|WarAction|WarAction|WarThrillerDramaAdventure|DramaAdventure|RomanceAction|DramaDocumentaryDramaAction|Horror|ThrillerSci-Fi|ThrillerChildren's|ComedyComedy|DramaDramaDramaDramaRomance|WarComedy|RomanceAction|ThrillerComedyComedy|RomanceComedyDramaThrillerThrillerCrime|DramaComedy|RomanceDrama|MysteryDramaChildren'sDramaDramaComedy|DramaDrama|ThrillerAdventure|Sci-Fi|ThrillerDramaHorrorHorrorHorrorThrillerAnimation|MusicalComedy|DramaDocumentaryComedyComedy|DramaDramaComedy|MusicalComedyComedyDramaComedy|HorrorHorrorDramaComedyAdventure|ThrillerAction|Drama|Fantasy|RomanceDrama|Mystery|RomanceComedyDrama|Mystery|RomanceAnimation|Children'sDrama|MusicalHorrorAction|Adventure|ComedyAction|Adventure|ComedyAction|ThrillerDramaComedyComedy|RomanceDrama|RomanceChildren's|ComedyDramaComedy|RomanceComedyDrama|WarComedyAction|DramaAction|DramaDrama|RomanceAdventureWesternComedy|WarHorror|MysteryAdventure|Animation|Children'sHorror|Sci-FiHorror|Sci-FiHorror|ThrillerHorror|ThrillerDramaAction|AdventureDrama|RomanceComedyDramaDocumentaryDrama|RomanceDramaAction|Crime|DramaComedyComedy|DramaComedyAction|Adventure|Sci-Fi|ThrillerCrime|ThrillerComedyDrama|RomanceDrama|RomanceWesternWesternComedyAction|ComedyDramaComedy|DramaDrama|RomanceDramaDramaDocumentaryDramaDramaDramaMusicalComedy|RomanceComedyComedyDramaDrama|ThrillerFilm-NoirMusical|Romance|WarDrama|RomanceDrama|RomanceAction|WarMysteryComedy|MusicalActionActionActionAdventure|Drama|RomanceAction|WesternCrime|ThrillerChildren's|ComedyDramaDramaAction|Crime|ThrillerDramaDramaDramaDramaComedy|DramaComedy|RomanceCrime|DramaDramaActionDramaDrama|ThrillerAdventure|Fantasy|Sci-FiDrama|RomanceAdventure|DramaMusicalDrama|WarComedyHorror|ThrillerDramaDrama|HorrorComedy|DramaComedy|RomanceDramaDramaDocumentaryHorror|ThrillerThrillerDocumentaryAction|Crime|Sci-FiAction|Crime|Sci-FiAdventure|Animation|Film-NoirDramaActionActionActionHorror|ThrillerActionDramaHorrorDramaComedyRomanceComedyAction|Adventure|AnimationDramaDocumentaryComedy|DramaComedy|RomanceThrillerDramaDocumentaryThrillerDramaDramaDramaComedyComedy|HorrorComedyThrillerHorrorHorrorHorrorCrime|DramaAction|DramaHorrorComedyComedy|RomanceHorror|Sci-FiWesternHorrorHorrorComedyAction|DramaComedy|Drama|WesternComedySci-FiComedy|Sci-FiAnimation|Children'sComedy|Drama|WarAdventureComedy|Drama|WesternDramaComedyComedyComedyComedyComedyMystery|Romance|ThrillerComedy|DramaComedy|RomanceDramaComedyComedy|WarDramaDramaComedyDrama|WarAnimation|Children'sThrillerThrillerComedyHorror|Sci-FiDramaComedy|DramaComedy|MusicalAction|Drama|WarThrillerThrillerDramaWarComedy|DramaDramaDramaAdventure|Comedy|Sci-FiDramaComedyDrama|RomanceWesternThrillerComedyDocumentaryDramaDramaDrama|Sci-FiHorror|RomanceAction|ThrillerComedy|DramaDocumentaryHorrorComedyComedyComedyDramaDramaDrama|WarDramaDrama|WesternDrama|RomanceDramaComedyComedy|RomanceDramaComedy|RomanceDramaThrillerThrillerDrama|RomanceAction|Adventure|Comedy|CrimeDramaDrama|RomanceAction|DramaComedy|Drama|RomanceDramaDramaDramaDramaAction|ThrillerAnimation|Children's|ComedyDramaDramaDrama|Romance|WarDramaHorrorComedyFilm-NoirDrama|Romance|WesternComedyComedy|DramaDramaDramaDramaDramaComedy|DramaComedyComedyComedyComedyDrama|WarDramaDocumentaryAction|WarDramaAction|AdventureComedyDramaDocumentary|MusicalDrama|WarComedy|RomanceDramaComedyDrama|ThrillerDramaMysteryDramaCrime|Drama|MysteryDramaAction|Adventure|FantasyDrama|WarDrama|RomanceComedy|Drama|Sci-FiChildren's|ComedyDramaAnimation|Children's|MusicalDramaDramaComedy|DramaDramaDramaAction|DramaAdventureDramaAdventure|DramaDramaWesternDramaAdventureDramaComedy|DramaAdventure|Comedy|Sci-FiDrama|Mystery|ThrillerComedyDramaDramaComedy|DramaDramaDocumentaryDramaAction|Comedy|Crime|DramaDramaDramaDramaDocumentaryComedyAdventure|Sci-FiDramaDramaDocumentaryDramaDramaDrama|WarActionDramaComedy|Musical|RomanceComedy|DramaDramaDramaThrillerThrillerHorrorRomanceAdventureAction|ComedyDramaComedyDramaDramaAnimation|Children'sDramaDramaHorrorDramaDramaThrillerDramaDramaDramaDramaDramaComedy|RomanceDocumentaryComedy|Drama|ThrillerComedyCrime|DramaThrillerComedyComedyComedyComedyComedyWesternDocumentaryThrillerComedyComedyComedyComedyComedyComedy|RomanceDramaDramaComedy|CrimeComedyThrillerDramaDrama|MysteryDramaComedyComedyComedy|DramaAction|ThrillerAction|Drama|Romance|ThrillerComedyDrama|RomanceDramaComedy|Drama|RomanceDrama|MysteryComedyComedy|HorrorAction|CrimeAction|Comedy|Crime|DramaAction|ThrillerAction|ComedyAdventure|Romance|Sci-FiDramaDramaCrime|DramaHorror|Mystery|ThrillerActionAction|ComedyComedyDramaDocumentaryAction|AdventureHorrorDocumentaryComedyActionComedy|RomanceAdventure|DramaComedyAnimation|Children'sDramaDramaComedyThrillerFilm-NoirDrama|Sci-FiHorrorDramaDramaDocumentaryDramaComedy|DramaAction|Sci-FiComedy|CrimeComedyDocumentaryCrime|DramaFilm-Noir|HorrorComedyComedy|Drama|RomanceComedy|DramaComedyActionWesternDramaComedyAction|DramaMusicalAction|ThrillerComedy|DramaThrillerDramaComedy|RomanceComedyComedyComedy|CrimeComedyComedy|DramaComedy|Sci-FiDocumentaryCrime|DramaDramaDramaDramaAdventure|Children'sDramaCrime|Drama|Film-Noir|ThrillerCrime|DramaDramaComedy|DramaDocumentaryWarHorror|Sci-FiComedyDrama|WarComedy|Drama|RomanceHorrorAdventure|Children'sHorrorDramaCrime|ThrillerComedyDramaHorrorDramaComedy|RomanceSci-FiThrillerDocumentaryDrama|RomanceComedy|RomanceDramaDramaComedyComedy|Crime|DramaComedy|DramaCrime|Film-NoirWesternAction|Adventure|WarWarRomance|WesternCrimeDrama|ThrillerDramaAction|WarWesternDramaSci-FiRomanceDrama|WarDramaDramaFilm-NoirComedy|DramaDramaDrama|MusicalActionComedyDrama|MysteryComedyComedyAction|AdventureAdventureComedyComedyComedy|FantasyComedy|RomanceComedyChildren's|ComedyChildren's|ComedyChildren's|ComedyChildren's|ComedyAnimation|Children'sAdventure|Sci-FiDramaDrama|ThrillerAction|DramaAction|DramaAction|Adventure|WarComedy|DramaDramaDrama|ThrillerComedy|DramaDramaAdventureCrime|DramaRomanceDramaDramaAdventure|Comedy|Sci-FiAction|DramaComedy|CrimeDrama|ThrillerComedyComedy|RomanceDramaComedy|DramaDramaDrama|RomanceCrimeDramaAnimation|ComedyAction|DramaAction|DramaAction|DramaAction|DramaAction|DramaCrime|Film-NoirDrama|RomanceDramaAction|Children's|FantasyAction|Children's|FantasyAction|Children's|FantasyAction|WarActionAction|Drama|ThrillerActionMystery|ThrillerComedyDramaComedy|Drama|WarDramaComedyComedy|DramaAction|RomanceDrama|RomanceComedy|RomanceDrama|ThrillerDramaDramaDrama|RomanceDrama|HorrorComedyAdventure|Drama|ThrillerComedyComedySci-Fi|ThrillerDramaComedy|FantasyDrama|WesternDramaDramaAdventure|DramaDrama|Sci-FiHorrorComedySci-Fi|ThrillerDrama|RomanceHorror|Mystery|ThrillerComedy|DramaDramaAdventure|Fantasy|RomanceDramaComedyDramaAnimation|Children'sThrillerHorrorSci-FiWesternHorror|Sci-FiAdventure|FantasyHorrorComedyAdventureHorrorAdventure|WesternComedy|DramaDramaComedyDramaHorrorComedy|DramaComedy|RomanceDramaDrama|Sci-FiComedy|DramaThrillerComedy|DramaComedyWesternDramaDrama|ThrillerComedyDrama|RomanceDrama|ThrillerDramaComedyComedy|RomanceCrime|DramaDrama|ThrillerAction|WarComedyComedy|Crime|DramaDramaAction|ThrillerComedy|RomanceComedyComedy|DramaAction|Sci-Fi|ThrillerDrama|RomanceCrime|ThrillerComedyComedy|Drama|RomanceComedyDramaComedyComedy|Horror|ThrillerComedy|RomanceComedy|DramaComedyDocumentaryRomance|ThrillerActionDramaComedy|DramaComedyMusical|WarDrama|ThrillerDramaComedy|DramaMusicalHorrorThrillerComedyDrama|ThrillerDrama|RomanceAction|ThrillerComedy|DramaThrillerDramaDramaDramaDramaComedy|DramaAction|HorrorChildren's|ComedyComedy|DramaComedy|DramaComedyDramaComedy|DramaDramaDramaHorror|Sci-FiHorror|Sci-FiHorror|Sci-FiDramaAction|Horror|Sci-FiDramaAction|DramaDramaDramaDramaDramaDramaAction|Drama|Romance|ThrillerAdventure|WarDramaHorrorCrime|DramaHorrorComedyComedy|DramaAnimation|Sci-FiAction|Sci-FiDramaComedyComedyComedyDramaComedy|MusicalComedy|MusicalComedy|WesternMusicalComedyMusicalDrama|MusicalMusicalComedy|Drama|WesternComedyDocumentaryMusicalAnimation|Children's|ComedyAdventure|Musical|RomanceComedyComedy|RomanceAnimation|Children'sComedy|RomanceComedyComedyComedyComedy|DramaDrama|HorrorComedyAction|ThrillerActionDocumentaryComedyHorror|ThrillerAction|Drama|WarComedyHorrorComedyComedyActionThrillerActionDramaDramaAction|Romance|Sci-FiActionComedy|DramaDramaWesternAction|Drama|WarWesternDramaComedyDramaHorror|Sci-FiDramaHorrorHorrorHorrorDocumentaryAction|Drama|WarDramaCrimeDramaSci-FiSci-Fi|ThrillerHorror|Sci-Fi|ThrillerHorror|Sci-Fi|ThrillerHorror|Sci-Fi|ThrillerHorror|Sci-Fi|ThrillerHorror|Sci-Fi|ThrillerHorror|Sci-Fi|ThrillerHorror|Sci-Fi|ThrillerAction|ComedyDrama|RomanceComedyWarComedy|WesternAdventure|Children'sAdventure|Children'sAdventure|Children'sMusicalDrama|HorrorDocumentaryDramaDocumentaryDocumentaryWesternWesternDrama|Film-NoirDrama|RomanceComedy|Drama|RomanceThrillerSci-FiComedyComedyComedyComedyComedy|HorrorComedy|HorrorComedy|HorrorComedy|HorrorComedy|Horror|Sci-FiAction|Sci-Fi|ThrillerAction|Adventure|Sci-FiAdventure|Drama|Romance|Sci-FiDrama|Sci-FiCrime|Drama|Sci-FiAction|Sci-FiAction|Sci-FiAction|Sci-FiAction|Adventure|Romance|ThrillerFilm-Noir|Mystery|ThrillerDramaHorror|ThrillerHorrorAction|ComedyDramaComedyDramaDramaComedyAction|CrimeAction|CrimeDocumentaryComedy|RomanceDramaComedyComedyDramaDrama|WarAnimation|MusicalAction|ThrillerComedy|HorrorThrillerAction|CrimeDrama|MysteryDrama|ThrillerHorrorDramaDramaCrime|DramaDramaDrama|WesternDramaComedy|RomanceAction|ComedyCrime|DramaDrama|WarComedy|RomanceAction|CrimeAdventure|Animation|Sci-FiDrama|WarDramaComedy|RomanceDramaDramaAnimation|Children's|ComedyComedyAction|Drama|WarAnimation|Children's|ComedyAction|Adventure|ThrillerDramaHorrorDrama|Sci-Fi|ThrillerAnimation|Children's|MusicalComedyCrime|DramaHorrorAction|Crime|ThrillerAction|Crime|ThrillerDrama|RomanceAction|WarAction|WarAction|WarActionAdventure|Crime|Sci-Fi|ThrillerAction|AdventureHorrorComedyComedyAnimation|Children's|MusicalAnimation|Children's|MusicalComedy|HorrorComedy|DramaSci-FiSci-FiAction|CrimeAction|CrimeCrime|DramaComedyComedy|HorrorComedyComedyDrama|MysteryDramaDramaDramaWesternAction|Sci-FiComedy|DramaDramaRomance|ThrillerThrillerThrillerAnimation|Children'sDrama|RomanceDrama|MysteryAction|Sci-FiDramaComedyAction|Adventure|DramaWesternAction|AdventureDrama|WarComedyDrama|ThrillerDrama|WarComedyDramaComedyDramaComedy|DramaComedy|MusicalComedyChildren'sComedyDrama|RomanceDramaDrama|RomanceDramaHorror|Sci-Fi|ThrillerAction|Sci-FiComedyComedy|RomanceComedy|Horror|ThrillerComedyHorrorHorror|Sci-FiAdventure|Drama|RomanceThrillerAction|Comedy|WarHorrorHorrorHorrorHorrorAction|ComedyHorrorHorrorDramaDramaComedyHorrorDrama|ThrillerThrillerCrime|ThrillerComedyComedyDramaDrama|RomanceDrama|RomanceDramaThrillerComedyDocumentaryCrimeComedyComedySci-Fi|ThrillerAction|Adventure|Sci-FiComedy|DocumentaryComedyDramaComedyComedyDramaDrama|WesternDramaComedy|WesternComedy|RomanceHorrorDramaAction|Adventure|FantasySci-FiActionDocumentaryDocumentaryComedyComedy|DramaComedyComedy|RomanceDramaDramaDrama|RomanceAction|Adventure|FantasyDocumentaryCrime|DramaHorrorComedy|ThrillerDramaCrime|ThrillerCrime|ThrillerComedy|DramaAction|ComedyComedyComedy|DramaComedy|DramaDramaDramaDramaComedyCrimeDramaHorrorComedy|RomanceDrama|MusicalComedyComedy|DramaDocumentaryDramaDramaDramaHorrorHorrorHorrorDrama|FantasyComedyComedyHorror|Sci-FiComedyComedyAdventure|Sci-FiAdventure|Sci-FiComedy|HorrorComedyHorrorHorror|Sci-FiHorror|Sci-FiHorror|Sci-FiSci-FiHorrorDrama|ThrillerSci-Fi|ThrillerHorrorHorrorHorrorHorrorHorrorComedyComedy|DramaAdventure|Animation|Children'sAction|Drama|ThrillerThrillerComedyDramaDramaDramaDrama|Thriller</td>\n",
       "    </tr>\n",
       "    <tr>\n",
       "      <th>Action</th>\n",
       "      <td>503</td>\n",
       "    </tr>\n",
       "    <tr>\n",
       "      <th>Adventure</th>\n",
       "      <td>283</td>\n",
       "    </tr>\n",
       "    <tr>\n",
       "      <th>Animation</th>\n",
       "      <td>105</td>\n",
       "    </tr>\n",
       "    <tr>\n",
       "      <th>Children's</th>\n",
       "      <td>251</td>\n",
       "    </tr>\n",
       "    <tr>\n",
       "      <th>...</th>\n",
       "      <td>...</td>\n",
       "    </tr>\n",
       "    <tr>\n",
       "      <th>Romance</th>\n",
       "      <td>471</td>\n",
       "    </tr>\n",
       "    <tr>\n",
       "      <th>Sci-Fi</th>\n",
       "      <td>276</td>\n",
       "    </tr>\n",
       "    <tr>\n",
       "      <th>Thriller</th>\n",
       "      <td>492</td>\n",
       "    </tr>\n",
       "    <tr>\n",
       "      <th>War</th>\n",
       "      <td>143</td>\n",
       "    </tr>\n",
       "    <tr>\n",
       "      <th>Western</th>\n",
       "      <td>68</td>\n",
       "    </tr>\n",
       "  </tbody>\n",
       "</table></div>"
      ],
      "text/plain": [
       "                                                             0\n",
       "Tipo         Animation|Children's|ComedyAdventure|Children'...\n",
       "Action                                                     503\n",
       "Adventure                                                  283\n",
       "Animation                                                  105\n",
       "Children's                                                 251\n",
       "Comedy                                                    1200\n",
       "Crime                                                      211\n",
       "Documentary                                                127\n",
       "Drama                                                     1603\n",
       "Fantasy                                                     68\n",
       "Film-Noir                                                   44\n",
       "Horror                                                     343\n",
       "Musical                                                    114\n",
       "Mystery                                                    106\n",
       "Romance                                                    471\n",
       "Sci-Fi                                                     276\n",
       "Thriller                                                   492\n",
       "War                                                        143\n",
       "Western                                                     68"
      ]
     },
     "execution_count": 36,
     "metadata": {},
     "output_type": "execute_result"
    }
   ],
   "source": [
    "estilos =pd.DataFrame(df.sum())\n",
    "\n",
    "# Quito las columnas primeras porque no son numericas \n",
    "estilos = estilos[2:].copy()\n",
    "estilos"
   ]
  },
  {
   "cell_type": "code",
   "execution_count": 37,
   "metadata": {
    "ExecuteTime": {
     "end_time": "2022-06-09T04:16:47.143754Z",
     "start_time": "2022-06-09T04:16:46.602668Z"
    },
    "id": "FgvVemcWtBYu"
   },
   "outputs": [
    {
     "ename": "NameError",
     "evalue": "name 'estilo' is not defined",
     "output_type": "error",
     "traceback": [
      "\u001b[1;31m---------------------------------------------------------------------------\u001b[0m",
      "\u001b[1;31mNameError\u001b[0m                                 Traceback (most recent call last)",
      "\u001b[1;32m~\\AppData\\Local\\Temp/ipykernel_14640/1563610774.py\u001b[0m in \u001b[0;36m<module>\u001b[1;34m\u001b[0m\n\u001b[1;32m----> 1\u001b[1;33m \u001b[0mestilo\u001b[0m\u001b[1;33m.\u001b[0m\u001b[0mhist\u001b[0m\u001b[1;33m(\u001b[0m\u001b[1;33m[\u001b[0m\u001b[1;34m'total_bill'\u001b[0m\u001b[1;33m]\u001b[0m\u001b[1;33m,\u001b[0m \u001b[0mbins\u001b[0m\u001b[1;33m=\u001b[0m\u001b[1;36m14\u001b[0m\u001b[1;33m)\u001b[0m\u001b[1;33m\u001b[0m\u001b[1;33m\u001b[0m\u001b[0m\n\u001b[0m\u001b[0;32m      2\u001b[0m \u001b[0mplt\u001b[0m\u001b[1;33m.\u001b[0m\u001b[0mtitle\u001b[0m\u001b[1;33m(\u001b[0m\u001b[1;34m'Total bill'\u001b[0m\u001b[1;33m)\u001b[0m\u001b[1;33m\u001b[0m\u001b[1;33m\u001b[0m\u001b[0m\n\u001b[0;32m      3\u001b[0m \u001b[0mplt\u001b[0m\u001b[1;33m.\u001b[0m\u001b[0mylabel\u001b[0m\u001b[1;33m(\u001b[0m\u001b[1;34m'Frequency'\u001b[0m\u001b[1;33m)\u001b[0m\u001b[1;33m\u001b[0m\u001b[1;33m\u001b[0m\u001b[0m\n\u001b[0;32m      4\u001b[0m \u001b[0mplt\u001b[0m\u001b[1;33m.\u001b[0m\u001b[0mxlabel\u001b[0m\u001b[1;33m(\u001b[0m\u001b[1;34m'# Characters (in thousands)'\u001b[0m\u001b[1;33m)\u001b[0m\u001b[1;33m\u001b[0m\u001b[1;33m\u001b[0m\u001b[0m\n",
      "\u001b[1;31mNameError\u001b[0m: name 'estilo' is not defined"
     ]
    }
   ],
   "source": [
    "estilo.hist(['total_bill'], bins=14)\n",
    "plt.title('Total bill')\n",
    "plt.ylabel('Frequency')\n",
    "plt.xlabel('# Characters (in thousands)')"
   ]
  },
  {
   "cell_type": "code",
   "execution_count": null,
   "metadata": {
    "ExecuteTime": {
     "end_time": "2022-06-09T04:16:47.145749Z",
     "start_time": "2022-06-09T04:16:47.145749Z"
    },
    "colab": {
     "base_uri": "https://localhost:8080/"
    },
    "id": "mL2ruzQusjQ7",
    "outputId": "58c56246-bded-4a51-ca36-88be23e30718"
   },
   "outputs": [],
   "source": [
    "estilos.shape\n",
    "\n",
    "estilos = estilos.rename_axis('genero').reset_index()\n",
    "print(estilos)"
   ]
  },
  {
   "cell_type": "code",
   "execution_count": null,
   "metadata": {
    "ExecuteTime": {
     "end_time": "2022-06-09T04:16:47.147744Z",
     "start_time": "2022-06-09T04:16:47.147744Z"
    },
    "id": "rtn930MouQj9"
   },
   "outputs": [],
   "source": [
    "df3 =  estilos.rename(columns ={'0':'A', '1':'B'})\n",
    "df3"
   ]
  }
 ],
 "metadata": {
  "colab": {
   "name": "0302 Visualitzacio grafica de Multiples variables2.ipynb",
   "provenance": [],
   "toc_visible": true
  },
  "hide_input": false,
  "kernelspec": {
   "display_name": "Python 3 (ipykernel)",
   "language": "python",
   "name": "python3"
  },
  "language_info": {
   "codemirror_mode": {
    "name": "ipython",
    "version": 3
   },
   "file_extension": ".py",
   "mimetype": "text/x-python",
   "name": "python",
   "nbconvert_exporter": "python",
   "pygments_lexer": "ipython3",
   "version": "3.8.8"
  },
  "toc": {
   "base_numbering": 1,
   "nav_menu": {},
   "number_sections": true,
   "sideBar": true,
   "skip_h1_title": false,
   "title_cell": "Table of Contents",
   "title_sidebar": "Contents",
   "toc_cell": false,
   "toc_position": {},
   "toc_section_display": true,
   "toc_window_display": false
  },
  "varInspector": {
   "cols": {
    "lenName": 16,
    "lenType": 16,
    "lenVar": 40
   },
   "kernels_config": {
    "python": {
     "delete_cmd_postfix": "",
     "delete_cmd_prefix": "del ",
     "library": "var_list.py",
     "varRefreshCmd": "print(var_dic_list())"
    },
    "r": {
     "delete_cmd_postfix": ") ",
     "delete_cmd_prefix": "rm(",
     "library": "var_list.r",
     "varRefreshCmd": "cat(var_dic_list()) "
    }
   },
   "types_to_exclude": [
    "module",
    "function",
    "builtin_function_or_method",
    "instance",
    "_Feature"
   ],
   "window_display": false
  }
 },
 "nbformat": 4,
 "nbformat_minor": 1
}
